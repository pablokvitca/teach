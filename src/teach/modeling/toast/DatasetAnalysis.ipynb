{
 "cells": [
  {
   "cell_type": "code",
   "execution_count": 1,
   "id": "43e4b314",
   "metadata": {},
   "outputs": [
    {
     "name": "stderr",
     "output_type": "stream",
     "text": [
      "DEBUG:matplotlib:matplotlib data path: C:\\Users\\Pablo\\miniconda3\\envs\\teach\\lib\\site-packages\\matplotlib\\mpl-data\n",
      "DEBUG:matplotlib:CONFIGDIR=C:\\Users\\Pablo\\.matplotlib\n",
      "DEBUG:matplotlib:interactive is False\n",
      "DEBUG:matplotlib:platform is win32\n",
      "DEBUG:matplotlib:loaded modules: ['sys', 'builtins', '_frozen_importlib', '_imp', '_warnings', '_io', 'marshal', 'nt', '_frozen_importlib_external', '_thread', '_weakref', 'winreg', 'time', 'zipimport', '_codecs', 'codecs', 'encodings.aliases', 'encodings', 'encodings.utf_8', 'encodings.cp1252', '_signal', '__main__', 'encodings.latin_1', '_abc', 'abc', 'io', '_stat', 'stat', '_collections_abc', 'genericpath', 'ntpath', 'os.path', 'os', '_sitebuiltins', '_locale', '_bootlocale', '_distutils_hack', 'types', 'importlib._bootstrap', 'importlib._bootstrap_external', 'warnings', 'importlib', 'importlib.machinery', 'importlib.abc', '_operator', 'operator', 'keyword', '_heapq', 'heapq', 'itertools', 'reprlib', '_collections', 'collections', '_functools', 'functools', 'contextlib', 'importlib.util', 'google', 'mpl_toolkits', 'pywin32_system32', 'pywin32_bootstrap', 'site', '_weakrefset', 'weakref', 'pkgutil', 'runpy', 'enum', '_sre', 'sre_constants', 'sre_parse', 'sre_compile', 'copyreg', 're', 'collections.abc', 'typing.io', 'typing.re', 'typing', 'ipykernel._version', '_json', 'json.scanner', 'json.decoder', 'json.encoder', 'json', 'errno', 'signal', 'threading', 'msvcrt', '_winapi', 'subprocess', 'jupyter_client._version', '_ast', 'ast', '_opcode', 'opcode', 'dis', 'token', 'tokenize', 'linecache', 'inspect', 'traitlets.utils', 'traitlets.utils.getargspec', 'traitlets.utils.importstring', 'traitlets.utils.sentinel', 'traitlets.utils.bunch', 'traitlets.utils.descriptions', 'traitlets.traitlets', 'copy', 'traitlets.utils.decorators', 'traitlets._version', 'traitlets', 'concurrent', 'traceback', '_string', 'string', 'atexit', 'logging', 'concurrent.futures._base', 'concurrent.futures', '_socket', 'math', 'select', 'selectors', 'socket', '_ssl', '_struct', 'struct', 'binascii', 'base64', 'ssl', 'asyncio.constants', 'asyncio.format_helpers', 'asyncio.base_futures', 'asyncio.log', 'asyncio.coroutines', '_contextvars', 'contextvars', 'asyncio.exceptions', 'asyncio.base_tasks', '_asyncio', 'asyncio.events', 'asyncio.futures', 'asyncio.protocols', 'asyncio.transports', 'asyncio.sslproto', 'asyncio.locks', 'asyncio.tasks', 'asyncio.staggered', 'asyncio.trsock', 'asyncio.base_events', 'asyncio.runners', 'asyncio.queues', 'asyncio.streams', 'asyncio.subprocess', '_overlapped', 'asyncio.base_subprocess', 'asyncio.proactor_events', 'asyncio.selector_events', 'posixpath', 'fnmatch', 'zlib', '_compression', '_bz2', 'bz2', '_lzma', 'lzma', 'shutil', '_bisect', 'bisect', '_sha512', '_random', 'random', 'tempfile', 'asyncio.windows_utils', 'asyncio.windows_events', 'asyncio', '_queue', 'queue', 'platform', 'zmq.backend.select', 'cython_runtime', 'zmq.backend.cython.constants', '_cython_0_29_24', 'zmq.backend.cython.error', 'zmq.error', 'zmq.backend.cython.message', 'zmq.backend.cython.context', '_compat_pickle', '_pickle', 'pickle', 'zmq.backend.cython.socket', 'zmq.backend.cython.utils', 'zmq.backend.cython._poll', 'zmq.backend.cython._version', 'zmq.backend.cython._device', 'zmq.backend.cython._proxy_steerable', 'zmq.backend.cython', 'zmq.backend', 'zmq.utils', 'zmq.utils.constant_names', 'zmq.sugar.constants', 'zmq.sugar.attrsettr', 'zmq.sugar.poll', 'zmq.utils.jsonapi', 'zmq.utils.strtypes', 'zmq.sugar.socket', 'zmq.sugar.context', 'zmq.sugar.frame', 'zmq.sugar.tracker', 'zmq.sugar.version', 'zmq.sugar.stopwatch', 'zmq.sugar', 'zmq', 'zmq._future', 'zmq.asyncio', 'jupyter_client.channelsabc', '_hashlib', '_blake2', '_sha3', 'hashlib', 'hmac', 'pprint', '_datetime', 'datetime', 'locale', 'gettext', 'argparse', 'traitlets.config.loader', 'textwrap', 'traitlets.utils.text', 'traitlets.config.configurable', 'traitlets.config.application', 'traitlets.config', 'traitlets.log', '__future__', 'tornado', 'logging.handlers', 'html.entities', 'html', 'urllib', 'urllib.parse', 'array', 'tornado.speedups', 'tornado.util', 'tornado.escape', 'colorama.ansi', '_ctypes', 'ctypes._endian', 'ctypes', 'ctypes.wintypes', 'colorama.win32', 'colorama.winterm', 'colorama.ansitowin32', 'colorama.initialise', 'colorama', 'tornado.log', 'numbers', 'tornado.concurrent', 'tornado.ioloop', 'tornado.platform', 'tornado.gen', 'tornado.platform.asyncio', 'zmq.eventloop.ioloop', 'zmq.eventloop', 'zmq.eventloop.zmqstream', 'jupyter_client.adapter', 'dateutil._version', 'dateutil', 'calendar', 'six', '_decimal', 'decimal', 'dateutil._common', 'dateutil.relativedelta', 'six.moves', 'dateutil.tz._common', 'dateutil.tz._factories', 'dateutil.tz.win', 'dateutil.tz.tz', 'dateutil.tz', 'dateutil.parser._parser', 'dateutil.parser.isoparser', 'dateutil.parser', '_strptime', 'jupyter_client.jsonutil', 'jupyter_client.session', 'jupyter_client.channels', 'getpass', 'jupyter_client.clientabc', 'glob', 'jupyter_core.version', 'jupyter_core', 'pathlib', 'jupyter_core.paths', 'jupyter_client.localinterfaces', 'jupyter_client.utils', 'jupyter_client.connect', 'jupyter_client.client', 'jupyter_client.asynchronous.client', 'jupyter_client.asynchronous', 'jupyter_client.blocking.client', 'jupyter_client.blocking', 'jupyter_client.launcher', 'uuid', 'jupyter_client.managerabc', 'zipfile', 'configparser', 'entrypoints', 'jupyter_client.provisioning.provisioner_base', 'jupyter_client.provisioning.factory', 'jupyter_client.provisioning.local_provisioner', 'jupyter_client.provisioning', 'jupyter_client.kernelspec', 'jupyter_client.manager', 'jupyter_client.multikernelmanager', 'jupyter_client', 'ipykernel.connect', 'ipykernel', 'IPython.core', 'IPython.core.getipython', 'IPython.core.release', 'sysconfig', 'pydoc', 'executing.executing', 'executing.version', 'executing', 'asttokens.line_numbers', 'asttokens.util', 'asttokens.mark_tokens', 'asttokens.asttokens', 'asttokens', 'fractions', 'pure_eval.utils', 'pure_eval.my_getattr_static', 'pure_eval.core', 'pure_eval.version', 'pure_eval', 'stack_data.utils', 'stack_data.core', 'stack_data.formatting', 'stack_data.version', 'stack_data', 'pygments', 'pygments.formatters._mapping', 'pygments.plugin', 'pygments.util', 'pygments.formatters', 'pygments.styles', 'pygments.formatter', 'pygments.console', 'pygments.token', 'pygments.style', 'pygments.formatters.terminal256', 'bdb', 'IPython.utils', 'IPython.utils.ipstruct', 'IPython.utils.coloransi', 'IPython.utils.colorable', 'IPython.utils.PyColorize', 'IPython.utils.encoding', 'IPython.utils.py3compat', 'IPython.core.excolors', 'cmd', 'codeop', 'code', 'pdb', 'IPython.core.debugger', 'IPython.core.display_trap', 'shlex', 'IPython.utils._process_common', 'IPython.utils._process_win32', 'IPython.utils.process', 'IPython.utils.decorators', 'IPython.utils.path', 'IPython.utils.terminal', 'IPython.core.ultratb', 'IPython.utils._sysinfo', 'IPython.utils.sysinfo', 'IPython.core.crashhandler', 'IPython.utils.importstring', 'IPython.paths', 'IPython.core.profiledir', 'IPython.core.application', 'IPython.terminal', 'IPython.core.compilerop', 'IPython.core.error', 'IPython.utils.text', 'IPython.core.magic_arguments', 'getopt', 'IPython.core.display_functions', 'mimetypes', 'IPython.testing', 'IPython.testing.skipdoctest', 'IPython.core.display', 'IPython.lib', 'IPython.lib.display', 'IPython.display', 'IPython.utils.data', 'IPython.core.page', 'IPython.lib.pretty', 'IPython.utils.openpy', 'IPython.utils.dir2', 'IPython.utils.wildcard', 'pygments.lexers._mapping', 'pygments.modeline', 'pygments.lexers', 'pygments.filter', 'pygments.filters', 'pygments.regexopt', 'pygments.lexer', 'pygments.unistring', 'pygments.lexers.python', 'pygments.formatters.html', 'IPython.core.oinspect', 'IPython.core.inputtransformer2', 'IPython.core.magic', 'pickleshare', 'IPython.core.hooks', 'IPython.core.autocall', 'IPython.core.macro', 'IPython.core.splitinput', 'IPython.core.prefilter', 'IPython.core.alias', 'IPython.core.builtin_trap', 'IPython.core.displayhook', 'IPython.core.displaypub', 'backcall.backcall', 'backcall', 'IPython.core.events', 'IPython.core.extensions', 'decorator', 'IPython.utils.sentinel', 'IPython.core.formatters', '_sqlite3', 'sqlite3.dbapi2', 'sqlite3', 'IPython.core.history', 'IPython.core.logger', 'IPython.core.payload', 'IPython.core.usage', 'IPython.utils.capture', 'IPython.utils.io', 'IPython.utils.strdispatch', 'IPython.utils.syspathcontext', 'IPython.core.async_helpers', 'IPython.core.interactiveshell', 'prompt_toolkit.application.current', 'prompt_toolkit.eventloop.utils', 'prompt_toolkit.eventloop.async_generator', 'prompt_toolkit.eventloop.inputhook', 'prompt_toolkit.eventloop', 'prompt_toolkit.application.run_in_terminal', 'prompt_toolkit.selection', 'prompt_toolkit.clipboard.base', 'prompt_toolkit.clipboard.in_memory', 'prompt_toolkit.clipboard', 'prompt_toolkit.cache', 'prompt_toolkit.enums', 'prompt_toolkit.filters.base', 'prompt_toolkit.filters.app', 'prompt_toolkit.filters.cli', 'prompt_toolkit.filters.utils', 'prompt_toolkit.filters', 'prompt_toolkit.document', 'prompt_toolkit.auto_suggest', 'prompt_toolkit.keys', 'prompt_toolkit.key_binding.key_bindings', 'wcwidth.table_wide', 'wcwidth.table_zero', 'wcwidth.unicode_versions', 'wcwidth.wcwidth', 'wcwidth', 'prompt_toolkit.utils', 'prompt_toolkit.key_binding.key_processor', 'prompt_toolkit.key_binding', 'prompt_toolkit.key_binding.vi_state', 'prompt_toolkit.cursor_shapes', 'prompt_toolkit.data_structures', 'prompt_toolkit.styles.base', 'prompt_toolkit.styles.named_colors', 'prompt_toolkit.styles.style', 'prompt_toolkit.styles.defaults', 'prompt_toolkit.styles.pygments', 'colorsys', 'prompt_toolkit.styles.style_transformation', 'prompt_toolkit.styles', 'prompt_toolkit.output.color_depth', 'prompt_toolkit.output.base', 'prompt_toolkit.output.flush_stdout', 'prompt_toolkit.output.plain_text', 'prompt_toolkit.output.defaults', 'prompt_toolkit.output', 'prompt_toolkit.output.vt100', 'prompt_toolkit.mouse_events', 'prompt_toolkit.formatted_text.base', 'prompt_toolkit.formatted_text.ansi', 'xml', 'xml.dom.domreg', 'xml.dom', 'xml.dom.minicompat', 'xml.dom.NodeFilter', 'xml.dom.xmlbuilder', 'xml.dom.minidom', 'prompt_toolkit.formatted_text.html', 'prompt_toolkit.formatted_text.pygments', 'prompt_toolkit.formatted_text.utils', 'prompt_toolkit.formatted_text', 'prompt_toolkit.completion.base', 'prompt_toolkit.completion.deduplicate', 'prompt_toolkit.completion.filesystem', 'prompt_toolkit.completion.word_completer', 'prompt_toolkit.completion.fuzzy_completer', 'prompt_toolkit.completion.nested', 'prompt_toolkit.completion', 'prompt_toolkit.history', 'prompt_toolkit.search', 'prompt_toolkit.validation', 'prompt_toolkit.buffer', 'prompt_toolkit.input.base', 'prompt_toolkit.input.defaults', 'prompt_toolkit.input', 'prompt_toolkit.input.typeahead', 'prompt_toolkit.key_binding.bindings', 'prompt_toolkit.key_binding.bindings.scroll', 'prompt_toolkit.key_binding.bindings.page_navigation', 'prompt_toolkit.lexers.base', 'prompt_toolkit.lexers.pygments', 'prompt_toolkit.lexers', 'prompt_toolkit.layout.utils', 'prompt_toolkit.layout.processors', 'prompt_toolkit.layout.controls', 'prompt_toolkit.layout.dimension', 'prompt_toolkit.layout.margins', 'prompt_toolkit.layout.mouse_handlers', 'prompt_toolkit.layout.screen', 'prompt_toolkit.layout.containers', 'prompt_toolkit.layout.layout', 'prompt_toolkit.layout.menus', 'prompt_toolkit.layout.scrollable_pane', 'prompt_toolkit.layout', 'prompt_toolkit.key_binding.bindings.completion', 'prompt_toolkit.key_binding.bindings.named_commands', 'prompt_toolkit.key_binding.bindings.basic', 'prompt_toolkit.key_binding.bindings.cpr', 'prompt_toolkit.key_binding.bindings.emacs', 'prompt_toolkit.key_binding.bindings.mouse', 'prompt_toolkit.input.ansi_escape_sequences', 'prompt_toolkit.input.vt100_parser', 'prompt_toolkit.key_binding.digraphs', 'prompt_toolkit.key_binding.bindings.vi', 'prompt_toolkit.key_binding.defaults', 'prompt_toolkit.key_binding.emacs_state', 'prompt_toolkit.layout.dummy', 'prompt_toolkit.renderer', 'prompt_toolkit.application.application', 'prompt_toolkit.application.dummy', 'prompt_toolkit.application', 'prompt_toolkit.key_binding.bindings.focus', 'prompt_toolkit.widgets.toolbars', 'prompt_toolkit.widgets.base', 'prompt_toolkit.widgets.dialogs', 'prompt_toolkit.widgets.menus', 'prompt_toolkit.widgets', 'prompt_toolkit.shortcuts.dialogs', 'prompt_toolkit.shortcuts.progress_bar.formatters', 'prompt_toolkit.shortcuts.progress_bar.base', 'prompt_toolkit.shortcuts.progress_bar', 'prompt_toolkit.key_binding.bindings.auto_suggest', 'prompt_toolkit.key_binding.bindings.open_in_editor', 'prompt_toolkit.shortcuts.prompt', 'prompt_toolkit.shortcuts.utils', 'prompt_toolkit.shortcuts', 'prompt_toolkit', 'prompt_toolkit.patch_stdout', 'unicodedata', 'IPython.core.latex_symbols', 'IPython.utils.generics', 'parso.utils', 'parso.tree', 'parso.python', 'parso.python.token', 'parso.python.tokenize', 'parso.pgen2.grammar_parser', 'parso.pgen2.generator', 'parso.pgen2', 'parso.parser', 'parso._compatibility', 'difflib', 'parso.python.prefix', 'parso.python.tree', 'parso.python.parser', 'parso.python.diff', 'gc', 'parso.cache', 'parso.normalizer', 'parso.python.errors', 'parso.python.pep8', 'parso.file_io', 'parso.grammar', 'parso', 'jedi.parser_utils', 'jedi.debug', 'jedi.settings', 'jedi.cache', 'jedi.file_io', 'jedi.inference.cache', 'jedi.inference.helpers', 'jedi.inference.utils', 'jedi.inference.base_value', 'jedi.inference.sys_path', 'jedi.inference.recursion', 'jedi.inference.flow_analysis', 'jedi.common', 'jedi.inference.lazy_value', 'jedi.inference.docstrings', 'jedi.plugins', 'jedi.inference.names', 'jedi.inference.filters', 'jedi.inference.compiled.getattr_static', 'jedi.inference.compiled.access', 'jedi.inference.signature', 'jedi.inference.context', 'jedi.inference.compiled.value', 'jedi.inference.compiled', 'jedi.inference.analysis', 'jedi.inference.gradual', 'jedi.inference.value.module', 'jedi.inference.value.dynamic_arrays', 'jedi.inference.value.iterable', 'jedi.inference.arguments', 'jedi.inference.parser_cache', 'jedi.inference.gradual.generics', 'jedi.inference.value.function', 'jedi.inference.value.klass', 'jedi.inference.value.instance', 'jedi.inference.value', 'jedi.inference.gradual.base', 'jedi.inference.gradual.type_var', 'jedi.inference.gradual.typing', 'jedi.inference.gradual.stub_value', 'jedi.inference.gradual.typeshed', 'jedi._compatibility', 'jedi.inference.compiled.subprocess.functions', 'jedi.api.exceptions', 'jedi.inference.compiled.subprocess', 'jedi.inference.imports', 'jedi.inference.param', 'jedi.inference.gradual.annotation', 'jedi.inference.value.decorator', 'jedi.inference.syntax_tree', 'jedi.inference', 'jedi.inference.gradual.conversion', 'jedi.inference.compiled.mixed', 'pydoc_data', 'pydoc_data.topics', 'jedi.api.keywords', 'jedi.api.completion_cache', 'jedi.api.helpers', 'jedi.api.classes', 'jedi.api.interpreter', 'jedi.api.strings', 'jedi.api.file_name', 'jedi.inference.docstring_utils', 'jedi.api.completion', 'filecmp', 'jedi.api.environment', 'jedi.inference.references', 'jedi.api.project', 'jedi.api.errors', 'jedi.api.refactoring', 'jedi.api.refactoring.extract', 'jedi.inference.gradual.utils', 'jedi.api', 'jedi.plugins.stdlib', 'jedi.plugins.flask', 'jedi.plugins.pytest', 'jedi.plugins.django', 'jedi.plugins.registry', 'jedi', 'IPython.core.completer', 'IPython.terminal.ptutils', 'IPython.lib.clipboard', 'IPython.terminal.shortcuts', 'concurrent.futures.thread', 'IPython.terminal.debugger', 'IPython.terminal.magics', 'IPython.terminal.pt_inputhooks', 'IPython.terminal.prompts', 'IPython.terminal.interactiveshell', 'IPython.core.magics.auto', 'IPython.core.magics.basic', 'email', 'http', 'email.errors', 'email.quoprimime', 'email.base64mime', 'quopri', 'email.encoders', 'email.charset', 'email.header', 'email._parseaddr', 'email.utils', 'email._policybase', 'email.feedparser', 'email.parser', 'uu', 'email._encoded_words', 'email.iterators', 'email.message', 'http.client', 'urllib.response', 'urllib.error', 'nturl2path', 'urllib.request', 'IPython.utils.contexts', 'IPython.core.magics.code', 'IPython.core.magics.config', 'IPython.core.magics.display', '_lsprof', 'profile', 'cProfile', 'pstats', 'timeit', 'IPython.utils.module_paths', 'IPython.utils.timing', 'IPython.core.magics.execution', 'IPython.core.magics.extension', 'IPython.core.magics.history', 'IPython.core.magics.logging', 'IPython.core.magics.namespace', 'IPython.core.magics.osm', 'IPython.core.magics.packaging', 'IPython.core.pylabtools', 'IPython.core.magics.pylab', 'IPython.core.magics.script', 'IPython.core.magics', 'IPython.core.shellapp', 'IPython.extensions', 'IPython.extensions.storemagic', 'IPython.terminal.ipapp', 'IPython.terminal.embed', 'IPython.utils.frame', 'IPython', 'ipykernel.control', 'ipykernel.heartbeat', 'ipykernel.iostream', 'IPython.utils.tokenutil', 'ipykernel.jsonutil', 'psutil._common', 'psutil._compat', 'psutil._psutil_windows', 'psutil._pswindows', 'psutil', 'tornado.locks', 'tornado.queues', 'ipykernel.kernelbase', 'ipykernel.comm.comm', 'ipykernel.comm.manager', 'ipykernel.comm', 'ipykernel.compiler', 'debugpy._version', 'debugpy.common', 'debugpy.common.json', 'debugpy.common.fmt', 'debugpy.common.compat', 'debugpy', 'debugpy._vendored._util', 'debugpy._vendored', '_pydevd_bundle', 'encodings.ascii', 'stringprep', 'encodings.idna', '_pydevd_bundle.pydevd_vm_type', '_pydev_bundle', 'xmlrpc', 'xml.parsers', 'pyexpat.errors', 'pyexpat.model', 'pyexpat', 'xml.parsers.expat.model', 'xml.parsers.expat.errors', 'xml.parsers.expat', 'gzip', 'xmlrpc.client', 'socketserver', 'http.server', 'xmlrpc.server', '_pydev_bundle._pydev_saved_modules', '_pydevd_bundle.pydevd_constants', '_pydev_runfiles', '_pydevd_frame_eval', 'pydev_ipython', 'plistlib', 'pkg_resources.extern', 'pkg_resources._vendor', 'pkg_resources._vendor.jaraco', 'pkg_resources.extern.jaraco', 'importlib.resources', 'pkg_resources._vendor.zipp', 'pkg_resources._vendor.importlib_resources._compat', 'pkg_resources._vendor.importlib_resources.abc', 'pkg_resources._vendor.importlib_resources._common', 'pkg_resources._vendor.importlib_resources._legacy', 'pkg_resources._vendor.importlib_resources', 'pkg_resources.extern.importlib_resources', 'pkg_resources._vendor.more_itertools.recipes', 'pkg_resources._vendor.more_itertools.more', 'pkg_resources._vendor.more_itertools', 'pkg_resources.extern.more_itertools', 'pkg_resources.extern.jaraco.functools', 'pkg_resources.extern.jaraco.context', 'pkg_resources.extern.jaraco.text', 'pkg_resources._vendor.appdirs', 'pkg_resources.extern.appdirs', 'pkg_resources._vendor.packaging.__about__', 'pkg_resources._vendor.packaging', 'pkg_resources.extern.packaging', 'pkg_resources.extern.packaging._structures', 'pkg_resources.extern.packaging.version', 'pkg_resources._vendor.packaging._manylinux', 'pkg_resources._vendor.packaging._musllinux', 'pkg_resources.extern.packaging.tags', 'pkg_resources.extern.packaging.utils', 'pkg_resources.extern.packaging.specifiers', 'pkg_resources._vendor.pyparsing', 'pkg_resources.extern.pyparsing', 'pkg_resources.extern.packaging.markers', 'pkg_resources.extern.packaging.requirements', 'pkg_resources', 'pydevd_plugins', '_pydev_bundle.pydev_log', '_pydev_bundle._pydev_filesystem_encoding', '_pydevd_bundle.pydevd_comm_constants', 'pydevd_file_utils', '_pydev_bundle._pydev_execfile', '_pydevd_bundle.pydevd_exec2', '_pydev_bundle.pydev_imports', '_pydev_bundle.pydev_is_thread_alive', '_pydev_bundle.pydev_override', 'pydevd_plugins.extensions', '_pydevd_bundle.pydevd_extension_utils', '_pydevd_bundle.pydevd_frame_utils', '_pydevd_bundle.pydevd_filtering', '_pydevd_bundle.pydevd_io', '_pydevd_bundle.pydevd_utils', '_pydev_bundle._pydev_tipper_common', '_pydev_bundle._pydev_imports_tipper', '_pydev_bundle._pydev_calltip_util', '_pydevd_bundle.pydevd_safe_repr', '_pydevd_bundle.pydevd_resolver', '_pydevd_bundle.pydevd_extension_api', '_pydevd_bundle.pydevd_xml', '_pydevd_bundle.pydevd_dont_trace', '_pydevd_frame_eval.vendored', '_pydevd_frame_eval.vendored.bytecode.flags', '_pydevd_frame_eval.vendored.bytecode.instr', '_pydevd_frame_eval.vendored.bytecode.bytecode', '_pydevd_frame_eval.vendored.bytecode.concrete', '_pydevd_frame_eval.vendored.bytecode.cfg', '_pydevd_frame_eval.vendored.bytecode', '_pydevd_bundle.pydevd_bytecode_utils', '_pydevd_bundle.pydevd_cython', '_pydevd_bundle.pydevd_cython_wrapper', '_pydevd_bundle.pydevd_additional_thread_info', '_pydevd_bundle.pydevd_thread_lifecycle', '_pydevd_bundle.pydevd_save_locals', '_pydevd_bundle.pydevd_defaults', '_pydev_bundle.pydev_monkey', 'pydevd_tracing', '_pydevd_bundle.pydevd_collect_bytecode_info', '_pydevd_bundle.pydevd_daemon_thread', '_pydevd_bundle.pydevd_timeout', '_pydevd_bundle.pydevd_vars', '_pydev_bundle.pydev_console_utils', '_pydevd_bundle.pydevd_import_class', '_pydevd_bundle.pydevd_breakpoints', '_pydevd_bundle.pydevd_custom_frames', '_pydevd_bundle.pydevd_dont_trace_files', '_pydevd_bundle.pydevd_net_command', '_pydev_bundle.pydev_umd', 'pydevconsole', '_pydev_bundle._pydev_completer', '_pydevd_bundle.pydevd_net_command_factory_xml', '_pydevd_bundle.pydevd_frame', '_pydevd_bundle.pydevd_additional_thread_info_regular', '_pydevd_bundle.pydevd_trace_dispatch', '_pydevd_frame_eval.pydevd_frame_eval_main', '_pydevd_bundle.pydevd_source_mapping', '_pydevd_bundle.pydevd_concurrency_analyser', '_pydevd_bundle.pydevd_concurrency_analyser.pydevd_thread_wrappers', '_pydevd_bundle.pydevd_concurrency_analyser.pydevd_concurrency_logger', '_pydevd_bundle._debug_adapter', '_pydevd_bundle._debug_adapter.pydevd_schema_log', '_pydevd_bundle._debug_adapter.pydevd_base_schema', '_pydevd_bundle._debug_adapter.pydevd_schema', '_pydevd_bundle.pydevd_reload', '_pydev_bundle.fsnotify', '_pydevd_bundle.pydevd_console', '_pydevd_bundle.pydevd_comm', '_pydevd_bundle.pydevd_net_command_factory_json', '_pydevd_bundle.pydevd_api', '_pydevd_bundle.pydevd_json_debug_options', '_pydevd_bundle.pydevd_process_net_command_json', '_pydevd_bundle.pydevd_traceproperty', '_pydevd_bundle.pydevd_process_net_command', '_pydevd_bundle.pydevd_suspended_frames', '_pydevd_bundle.pydevd_trace_api', 'pydevd_plugins.pydevd_line_validation', 'pydevd_plugins.django_debug', 'pydevd_plugins.jinja2_debug', '_pydevd_bundle.pydevd_plugin_utils', 'pydevd_plugins.extensions.types', 'pydevd_plugins.extensions.types.pydevd_helpers', 'pydevd_plugins.extensions.types.pydevd_plugin_numpy_types', 'pydevd_plugins.extensions.types.pydevd_plugin_pandas_types', 'pydevd_plugins.extensions.types.pydevd_plugins_django_form_str', 'pydevd_plugins.extensions.pydevd_plugin_omegaconf', 'pydevd', 'debugpy._vendored.force_pydevd', 'debugpy.server', 'debugpy.adapter', 'debugpy.common.timestamp', 'debugpy.common.util', 'debugpy.common.log', 'debugpy.common.sockets', 'debugpy.server.api', 'ipykernel.debugger', 'packaging.__about__', 'packaging', 'packaging._structures', 'packaging.version', 'ipykernel.eventloops', 'IPython.core.payloadpage', 'ipykernel.displayhook', 'ipykernel.zmqshell', 'ipykernel.ipkernel', 'ipykernel.parentpoller', 'ipykernel.kernelapp', 'faulthandler', 'IPython.core.completerlib', 'torch._utils', 'torch._utils_internal', 'torch.version', 'torch.torch_version', 'torch._six', 'torch._C._onnx', 'torch._C._jit', 'torch._C._jit_tree_views', 'torch._C._te', 'torch._C._monitor', 'torch._C.cpp', 'torch._C.cpp.nn', 'torch._C', 'torch._C._fft', 'torch._C._linalg', 'torch._C._nn', 'torch._C._return_types', 'torch._C._sparse', 'torch._C._special', 'torch._namedtensor_internals', 'torch.overrides', 'torch.utils.throughput_benchmark', 'torch.utils._crash_handler', 'torch.utils', 'torch.utils.hooks', 'torch._tensor', 'torch.types', 'torch.storage', 'torch.random', 'tarfile', 'torch._sources', 'torch.serialization', 'torch._tensor_str', 'torch.autocast_mode', 'torch.cuda._utils', 'torch.cuda.graphs', 'torch.cuda.streams', 'torch.cuda.memory', 'torch.cuda.random', 'torch.cuda.sparse', 'torch.cuda.profiler', 'torch.cuda.nvtx', 'numpy._globals', 'numpy.__config__', 'numpy._version', 'mkl._mklinit', 'mkl._py_mkl_service', 'mkl', 'numpy._distributor_init', 'numpy.version', 'numpy.core._multiarray_umath', 'numpy.compat._inspect', 'numpy.compat.py3k', 'numpy.compat', 'numpy.core.overrides', 'numpy.core.multiarray', 'numpy.core.umath', 'numpy.core._string_helpers', 'numpy.core._dtype', 'numpy.core._type_aliases', 'numpy.core.numerictypes', 'numpy.core._exceptions', 'numpy.core._methods', 'numpy.core.fromnumeric', 'numpy.core.shape_base', 'numpy.core._ufunc_config', 'numpy.core.arrayprint', 'numpy.core._asarray', 'numpy.core.numeric', 'numpy.core.defchararray', 'numpy.core.records', 'numpy.core.memmap', 'numpy.core.function_base', 'numpy.core.machar', 'numpy.core.getlimits', 'numpy.core.einsumfunc', 'numpy.core._multiarray_tests', 'numpy.core._add_newdocs', 'numpy.core._add_newdocs_scalars', 'numpy.core._dtype_ctypes', 'numpy.core._internal', 'numpy._pytesttester', 'numpy.core', 'numpy.lib.mixins', 'numpy.lib.ufunclike', 'numpy.lib.type_check', 'numpy.lib.scimath', 'numpy.lib.stride_tricks', 'numpy.lib.twodim_base', 'numpy.linalg.lapack_lite', 'numpy.linalg._umath_linalg', 'numpy.linalg.linalg', 'numpy.linalg', 'numpy.matrixlib.defmatrix', 'numpy.matrixlib', 'numpy.lib.histograms', 'numpy.lib.function_base', 'numpy.lib.index_tricks', 'numpy.lib.nanfunctions', 'numpy.lib.shape_base', 'numpy.lib.polynomial', 'numpy.lib.utils', 'numpy.lib.arraysetops', 'numpy.lib.format', 'numpy.lib._datasource', 'numpy.lib._iotools', 'numpy.lib.npyio', 'numpy.lib.arrayterator', 'numpy.lib.arraypad', 'numpy.lib._version', 'numpy.lib', 'numpy.fft._pocketfft_internal', 'numpy.fft._pocketfft', 'numpy.fft.helper', 'numpy.fft', 'numpy.polynomial.polyutils', 'numpy.polynomial._polybase', 'numpy.polynomial.polynomial', 'numpy.polynomial.chebyshev', 'numpy.polynomial.legendre', 'numpy.polynomial.hermite', 'numpy.polynomial.hermite_e', 'numpy.polynomial.laguerre', 'numpy.polynomial', '_cython_0_29_28', 'numpy.random._common', 'secrets', 'numpy.random.bit_generator', 'numpy.random._bounded_integers', 'numpy.random._mt19937', 'numpy.random.mtrand', 'numpy.random._philox', 'numpy.random._pcg64', 'numpy.random._sfc64', 'numpy.random._generator', 'numpy.random._pickle', 'numpy.random', 'numpy.ctypeslib', 'numpy.ma.core', 'numpy.ma.extras', 'numpy.ma', 'numpy', 'torch.cuda.amp.autocast_mode', 'torch.cuda.amp.common', 'torch.cuda.amp.grad_scaler', 'torch.cuda.amp', 'torch.cuda', 'torch.sparse', 'torch.nn.parameter', 'torch.nn.modules.module', 'torch._VF', 'torch._torch_docs', 'torch._C._distributed_c10d', 'torch.distributed.constants', 'torch.distributed.rendezvous', 'torch.distributed.distributed_c10d', 'torch.distributed.remote_device', 'torch.distributed', 'torch.distributed.rpc', 'torch.futures', 'torch.package.analyze.trace_dependencies', 'torch.package.analyze', 'torch.package._mangling', 'torch.package.analyze.is_from_package', 'torch.package.glob_group', 'torch.package.file_structure_representation', 'torch.package.importer', 'pickletools', 'dataclasses', 'torch.package._digraph', 'torch.package._importlib', 'torch.package._package_pickler', 'torch.package._stdlib', 'torch.package.find_file_dependencies', 'torch.package.package_exporter', 'torch.package._directory_reader', 'torch.package._package_unpickler', 'torch.package.package_importer', 'torch.package', 'torch._jit_internal', 'torch.nn._reduction', 'torch.nn.modules.utils', 'torch.nn.grad', 'torch.nn.functional', 'torch.nn.init', 'typing_extensions', 'torch.nn.modules.lazy', 'torch.nn.modules.linear', 'torch.nn.common_types', 'torch.nn.modules.conv', 'torch.nn.modules.activation', 'torch.nn.modules.distance', 'torch.nn.modules.loss', 'torch.nn.modules.container', 'torch.nn.modules.pooling', 'torch.autograd.variable', 'torch.autograd.function', 'cmath', 'torch.testing._core', 'torch.testing._comparison', 'torch.testing._creation', 'torch.testing._legacy', 'torch.testing._deprecated', 'torch.testing', 'torch.utils._pytree', 'torch._vmap_internals', 'torch.autograd.gradcheck', 'torch.autograd.grad_mode', 'torch.autograd.anomaly_mode', 'torch.autograd.forward_ad', 'torch.autograd.functional', 'torch.autograd.graph', 'torch._C._autograd', 'torch.autograd.profiler_util', 'torch.autograd.profiler', 'torch.autograd', 'torch.nn.modules._functions', 'torch.nn.modules.batchnorm', 'torch.nn.modules.instancenorm', 'torch.nn.modules.normalization', 'torch.nn.modules.dropout', 'torch.nn.modules.padding', 'torch.nn.modules.sparse', 'torch.nn.utils.rnn', 'torch.nn.utils.clip_grad', 'torch.nn.utils.weight_norm', 'torch.nn.utils.convert_parameters', 'torch.nn.utils.spectral_norm', 'torch.nn.utils.fusion', 'torch.nn.utils.memory_format', 'torch.nn.utils.parametrize', 'torch.nn.utils.parametrizations', 'torch.nn.utils.init', 'torch.nn.utils', 'torch.nn.modules.rnn', 'torch.nn.modules.pixelshuffle', 'torch.nn.modules.upsampling', 'torch.nn.modules.fold', 'torch.nn.modules.adaptive', 'torch.nn.modules.transformer', 'torch.nn.modules.flatten', 'torch.nn.modules.channelshuffle', 'torch.nn.modules', 'torch.nn.parallel.parallel_apply', 'torch.cuda.nccl', 'torch.nn.parallel.comm', 'torch.nn.parallel.replicate', 'torch.nn.parallel._functions', 'torch.nn.parallel.scatter_gather', 'torch.nn.parallel.data_parallel', 'torch.distributed.algorithms.join', 'torch.distributed.algorithms', 'torch.nn.parallel.distributed', 'torch.nn.parallel', 'torch.nn', 'torch._linalg_utils', 'torch._lowrank', 'torch.functional', 'torch.cpu.amp.autocast_mode', 'torch.cpu.amp', 'torch.cpu', 'torch.fft', 'torch.nn.intrinsic.modules.fused', 'torch.nn.intrinsic.modules', 'torch.nn.intrinsic', 'torch.nn.quantized.modules.utils', 'torch.jit._monkeytype_config', 'torch.jit._state', 'torch._ops', 'torch.jit.annotations', 'torch.jit.frontend', 'torch.backends', 'torch.backends.cudnn', 'torch.jit._builtins', 'torch.jit._check', 'torch.jit._recursive', 'torch.jit._fuser', 'torch.jit._serialization', 'torch._classes', 'torch.distributed.autograd', 'torch.jit._script', 'torch.jit._trace', 'torch.jit._async', 'torch.jit._freeze', 'torch.jit', 'torch.nn.quantized.functional', 'torch.nn.quantized.modules.activation', 'torch.nn.quantized.modules.dropout', 'torch.nn.quantized.modules.batchnorm', 'torch.nn.quantized.modules.normalization', 'torch.nn.qat.modules.linear', 'torch.nn.qat.modules.conv', 'torch.nn.qat.modules.embedding_ops', 'torch.nn.qat.modules', 'torch.nn.qat', 'torch.nn.intrinsic.qat.modules.linear_relu', 'torch.nn.intrinsic.qat.modules.conv_fused', 'torch.nn.intrinsic.qat.modules', 'torch.nn.intrinsic.qat', 'torch.nn.quantized.modules.conv', 'torch.nn.quantized.modules.linear', 'torch.nn.quantized.modules.embedding_ops', 'torch.nn.quantized.modules.functional_modules', 'torch.nn.quantized.modules', 'torch.nn.quantized', 'torch.nn.quantizable.modules.activation', 'torch.nn.quantizable.modules.rnn', 'torch.nn.quantizable.modules', 'torch.nn.quantizable', 'torch.ao', 'torch.optim._functional', 'torch.optim.optimizer', 'torch.optim.adadelta', 'torch.optim.adagrad', 'torch.optim.adam', 'torch.optim.adamw', 'torch.optim.sparse_adam', 'torch.optim.adamax', 'torch.optim.asgd', 'torch.optim.sgd', 'torch.optim.radam', 'torch.optim.rprop', 'torch.optim.rmsprop', 'torch.optim.nadam', 'torch.optim.lbfgs', 'torch.optim.lr_scheduler', 'torch.optim.swa_utils', 'torch.optim', 'torch.optim._multi_tensor.adam', 'torch.optim._multi_tensor.adamw', 'torch.optim._multi_tensor._functional', 'torch.optim._multi_tensor.nadam', 'torch.optim._multi_tensor.sgd', 'torch.optim._multi_tensor.radam', 'torch.optim._multi_tensor.rmsprop', 'torch.optim._multi_tensor.rprop', 'torch.optim._multi_tensor.asgd', 'torch.optim._multi_tensor.adamax', 'torch.optim._multi_tensor.adadelta', 'torch.optim._multi_tensor.adagrad', 'torch.optim._multi_tensor', 'multiprocessing.process', 'multiprocessing.reduction', 'multiprocessing.context', '__mp_main__', 'multiprocessing', 'multiprocessing.util', 'multiprocessing.resource_sharer', 'torch.multiprocessing.reductions', '_multiprocessing', 'multiprocessing.connection', 'torch.multiprocessing.spawn', 'torch.multiprocessing', 'torch.special', 'torch.utils.backcompat', 'torch.onnx', 'torch.linalg', 'tqdm._monitor', 'tqdm._tqdm_pandas', 'tqdm.utils', 'tqdm.std', 'tqdm._dist_ver', 'tqdm.version', 'tqdm.cli', 'tqdm.gui', 'tqdm', 'ipywidgets._version', 'ipython_genutils._version', 'ipython_genutils', 'ipython_genutils.encoding', 'ipython_genutils.py3compat', 'ipywidgets.widgets.widget', 'ipywidgets.widgets.util', 'ipywidgets.widgets.trait_types', 'ipywidgets.widgets.widget_layout', 'ipywidgets.widgets.widget_style', 'ipywidgets.widgets.domwidget', 'ipywidgets.widgets.valuewidget', 'ipywidgets.widgets.widget_core', 'ipywidgets.widgets.widget_description', 'ipywidgets.widgets.widget_bool', 'ipywidgets.widgets.widget_button', 'ipywidgets.widgets.docutils', 'ipywidgets.widgets.widget_box', 'ipywidgets.widgets.widget_int', 'ipywidgets.widgets.widget_float', 'ipywidgets.widgets.widget_color', 'ipywidgets.widgets.widget_date', 'ipywidgets.widgets.widget_output', 'ipywidgets.widgets.widget_selection', 'ipywidgets.widgets.widget_selectioncontainer', 'ipywidgets.widgets.widget_string', 'ipywidgets.widgets.widget_controller', 'ipywidgets.widgets.interaction', 'ipywidgets.widgets.widget_link', 'ipywidgets.widgets.widget_media', 'ipywidgets.widgets.widget_templates', 'ipywidgets.widgets.widget_upload', 'ipywidgets.widgets', 'ipywidgets', 'tqdm.notebook', 'tqdm.autonotebook', 'tqdm.asyncio', 'tqdm.auto', 'torch.hub', 'torch.distributions.constraints', 'torch.distributions.utils', 'torch.distributions.distribution', 'torch.distributions.exp_family', 'torch.distributions.bernoulli', 'torch.distributions.dirichlet', 'torch.distributions.beta', 'torch.distributions.binomial', 'torch.distributions.categorical', 'torch.distributions.cauchy', 'torch.distributions.gamma', 'torch.distributions.chi2', 'torch.distributions.transforms', 'torch.distributions.constraint_registry', 'torch.distributions.continuous_bernoulli', 'torch.distributions.exponential', 'torch.distributions.fishersnedecor', 'torch.distributions.geometric', 'torch.distributions.uniform', 'torch.distributions.independent', 'torch.distributions.transformed_distribution', 'torch.distributions.gumbel', 'torch.distributions.half_cauchy', 'torch.distributions.normal', 'torch.distributions.half_normal', 'torch.distributions.laplace', 'torch.distributions.multivariate_normal', 'torch.distributions.lowrank_multivariate_normal', 'torch.distributions.one_hot_categorical', 'torch.distributions.pareto', 'torch.distributions.poisson', 'torch.distributions.kl', 'torch.distributions.kumaraswamy', 'torch.distributions.lkj_cholesky', 'torch.distributions.log_normal', 'torch.distributions.logistic_normal', 'torch.distributions.mixture_same_family', 'torch.distributions.multinomial', 'torch.distributions.negative_binomial', 'torch.distributions.relaxed_bernoulli', 'torch.distributions.relaxed_categorical', 'torch.distributions.studentT', 'torch.distributions.von_mises', 'torch.distributions.weibull', 'torch.distributions.wishart', 'torch.distributions', 'torch.backends.cuda', 'torch.backends.mkl', 'torch.backends.mkldnn', 'torch.backends.openmp', 'torch.backends.quantized', 'torch.utils.data.sampler', 'torch.utils.data._typing', 'torch.utils.data.dataset', 'torch.utils.data._utils.signal_handling', 'torch.utils.data._utils.worker', 'torch.utils.data._utils.pin_memory', 'torch.utils.data._utils.collate', 'torch.utils.data._utils.fetch', 'torch.utils.data._utils', 'torch.utils.data.graph', 'torch.utils.data.graph_settings', 'torch.utils.data.dataloader', 'torch.utils.data.distributed', 'torch.utils.data._decorator', 'torch.utils.data.backward_compatibility', 'torch.utils.data.communication.eventloop', 'torch.utils.data.communication.iter', 'torch.utils.data.communication.map', 'torch.utils.data.communication.messages', 'torch.utils.data.communication.protocol', 'torch.utils.data.communication.queue', 'torch.utils.data.communication', 'torch.utils.data.datapipes.iter.utils', 'torch.utils.data.datapipes.utils', 'torch.utils.data.datapipes.utils.common', 'torch.utils.data.datapipes.iter.callable', 'torch.utils.data.datapipes.iter.combinatorics', 'torch.utils.data.datapipes.iter.combining', 'torch.utils.data.datapipes.iter.filelister', 'torch.utils.data.datapipes.iter.fileopener', 'torch.utils.data.datapipes.iter.grouping', 'torch.utils.data.datapipes.utils.decoder', 'torch.utils.data.datapipes.iter.routeddecoder', 'torch.utils.data.datapipes.dataframe.structures', 'torch.utils.data.datapipes.dataframe.dataframes', 'torch.utils.data.datapipes.dataframe.dataframe_wrapper', 'torch.utils.data.datapipes.dataframe.datapipes', 'torch.utils.data.datapipes.dataframe', 'torch.utils.data.datapipes.iter.selecting', 'torch.utils.data.datapipes.iter.streamreader', 'torch.utils.data.datapipes.iter', 'torch.utils.data.datapipes.map.callable', 'torch.utils.data.datapipes.map.combinatorics', 'torch.utils.data.datapipes.map.combining', 'torch.utils.data.datapipes.map.grouping', 'torch.utils.data.datapipes.map.utils', 'torch.utils.data.datapipes.map', 'torch.utils.data.datapipes', 'torch.utils.data.dataloader_experimental', 'torch.utils.data', 'torch.__config__', 'torch.__future__', 'torch.profiler.profiler', 'torch.profiler', 'torch._tensor_docs', 'torch._storage_docs', 'torch.ao.quantization.quant_type', 'torch.ao.quantization.utils', 'torch.ao.quantization.observer', 'torch.ao.quantization.fake_quantize', 'torch.ao.quantization.fuser_method_mappings', 'torch.ao.quantization.fuse_modules', 'torch.ao.quantization.qconfig', 'torch.nn.intrinsic.quantized.modules.linear_relu', 'torch.nn.intrinsic.quantized.modules.conv_relu', 'torch.nn.intrinsic.quantized.modules.bn_relu', 'torch.nn.intrinsic.quantized.modules', 'torch.nn.intrinsic.quantized', 'torch.nn.quantized.dynamic.modules.linear', 'torch.nn.quantized.dynamic.modules.rnn', 'torch.nn.quantized.dynamic.modules.conv', 'torch.nn.quantized.dynamic.modules', 'torch.nn.quantized.dynamic', 'torch.nn.intrinsic.quantized.dynamic.modules.linear_relu', 'torch.nn.intrinsic.quantized.dynamic.modules', 'torch.nn.intrinsic.quantized.dynamic', 'torch.nn.quantized._reference.modules.utils', 'torch.nn.quantized._reference.modules.linear', 'torch.nn.quantized._reference.modules.conv', 'torch.nn.quantized._reference.modules', 'torch.nn.quantized._reference', 'torch.nn.qat.dynamic.modules.linear', 'torch.nn.qat.dynamic.modules', 'torch.nn.qat.dynamic', 'torch.ao.nn.sparse.quantized.linear', 'torch.ao.nn.sparse.quantized.utils', 'torch.ao.nn.sparse.quantized.dynamic.linear', 'torch.ao.nn.sparse.quantized.dynamic', 'torch.ao.nn.sparse.quantized', 'torch.ao.nn.sparse', 'torch.ao.nn', 'torch.ao.quantization.stubs', 'torch.ao.quantization.quantization_mappings', 'torch.ao.quantization.quantize', 'torch.ao.quantization.quantize_jit', 'torch.ao.quantization', 'torch.quantization.quantize', 'torch.quantization.observer', 'torch.quantization.qconfig', 'torch.quantization.fake_quantize', 'torch.quantization.fuser_method_mappings', 'torch.quantization.fuse_modules', 'torch.quantization.stubs', 'torch.quantization.quant_type', 'torch.quantization.quantize_jit', 'torch.quantization.quantization_mappings', 'torch.quantization', 'torch.quasirandom', 'torch.multiprocessing._atfork', 'torch._lobpcg', 'torch.utils.dlpack', 'torch._masked', 'torch.return_types', 'torch', 'PIL._version', 'PIL', 'defusedxml.common', 'defusedxml', 'xml.etree', 'xml.etree.ElementPath', '_elementtree', 'xml.etree.ElementTree', 'defusedxml.ElementTree', 'PIL.ImageMode', 'PIL.TiffTags', 'PIL._binary', 'PIL._util', 'PIL._imaging', 'cffi.lock', 'cffi.error', 'cffi.model', 'cffi.api', 'cffi', 'PIL.Image', 'gensim.parsing.porter', 'scipy._lib._testutils', 'scipy._lib', 'scipy._lib.deprecation', 'scipy.__config__', 'scipy.version', 'scipy._distributor_init', 'scipy._lib._pep440', 'scipy._lib._ccallback_c', 'scipy._lib._ccallback', 'scipy', 'scipy._lib._util', 'scipy.sparse._sputils', 'scipy.sparse._base', 'scipy.sparse._sparsetools', 'scipy.sparse._data', 'scipy.sparse._index', 'scipy.sparse._compressed', 'scipy.sparse._csr', 'scipy.sparse._csc', 'scipy.sparse._csparsetools', 'scipy.sparse._lil', 'scipy.sparse._dok', 'scipy.sparse._coo', 'scipy.sparse._dia', 'scipy.sparse._bsr', 'scipy.sparse._construct', 'scipy.sparse._extract', 'scipy.sparse._matrix_io', 'scipy.sparse._arrays', 'scipy.sparse.csgraph._laplacian', '_cython_0_29_25', 'scipy.sparse.csgraph._tools', 'scipy.sparse.csgraph._validation', 'scipy.sparse.csgraph._shortest_path', 'scipy.sparse.csgraph._traversal', 'scipy.sparse.csgraph._min_spanning_tree', 'scipy.sparse.csgraph._flow', 'scipy.sparse.csgraph._matching', 'scipy.sparse.csgraph._reordering', 'scipy.sparse.csgraph', 'scipy.sparse.base', 'scipy.sparse.bsr', 'scipy.sparse.compressed', 'scipy.sparse.construct', 'scipy.sparse.coo', 'scipy.sparse.csc', 'scipy.sparse.csr', 'scipy.sparse.data', 'scipy.sparse.dia', 'scipy.sparse.dok', 'scipy.sparse.extract', 'scipy.sparse.lil', 'scipy.sparse.sparsetools', 'scipy.sparse.sputils', 'scipy.sparse', 'smart_open.version', 'smart_open.local_file', 'smart_open.compression', 'smart_open.bytebuffer', 'smart_open.constants', 'smart_open.azure', 'smart_open.utils', 'smart_open.gcs', 'smart_open.hdfs', 'urllib3.packages', 'urllib3.packages.six', 'urllib3.packages.six.moves', 'urllib3.packages.six.moves.http_client', 'urllib3.exceptions', 'urllib3._version', 'urllib3.contrib', 'urllib3.contrib._appengine_environ', 'urllib3.util.wait', 'urllib3.util.connection', '_cffi_backend', '_brotli.lib', '_brotli', 'brotli._brotli', 'brotli.brotli', 'brotli', 'urllib3.util.request', 'urllib3.util.response', 'urllib3.util.retry', 'urllib3.util.url', 'urllib3.util.ssltransport', 'urllib3.util.ssl_', 'urllib3.util.timeout', 'urllib3.util', 'urllib3.util.proxy', 'urllib3._collections', 'ipaddress', 'urllib3.util.ssl_match_hostname', 'urllib3.connection', 'urllib3.fields', 'urllib3.filepost', 'urllib3.packages.six.moves.urllib', 'urllib3.packages.six.moves.urllib.parse', 'urllib3.request', 'urllib3.response', 'urllib3.util.queue', 'urllib3.connectionpool', 'urllib3.poolmanager', 'urllib3', 'charset_normalizer.constant', '_multibytecodec', 'charset_normalizer.utils', 'charset_normalizer.md', 'charset_normalizer.models', 'charset_normalizer.assets', 'charset_normalizer.cd', 'charset_normalizer.api', 'charset_normalizer.legacy', 'charset_normalizer.version', 'charset_normalizer', 'http.cookiejar', 'http.cookies', 'requests.compat', 'requests.exceptions', 'requests.__version__', 'certifi.core', 'certifi', 'requests.certs', 'requests._internal_utils', 'requests.cookies', 'requests.structures', 'requests.utils', 'requests.packages.urllib3.packages', 'requests.packages.urllib3.packages.six', 'requests.packages.urllib3.packages.six.moves', 'requests.packages.urllib3.packages.six.moves.http_client', 'requests.packages.urllib3.exceptions', 'requests.packages.urllib3._version', 'requests.packages.urllib3.contrib', 'requests.packages.urllib3.contrib._appengine_environ', 'requests.packages.urllib3.util.wait', 'requests.packages.urllib3.util.connection', 'requests.packages.urllib3.util.request', 'requests.packages.urllib3.util.response', 'requests.packages.urllib3.util.retry', 'requests.packages.urllib3.util.url', 'requests.packages.urllib3.util.ssltransport', 'requests.packages.urllib3.util.ssl_', 'requests.packages.urllib3.util.timeout', 'requests.packages.urllib3.util', 'requests.packages.urllib3.util.proxy', 'requests.packages.urllib3._collections', 'requests.packages.urllib3.util.ssl_match_hostname', 'requests.packages.urllib3.connection', 'requests.packages.urllib3.fields', 'requests.packages.urllib3.filepost', 'requests.packages.urllib3.packages.six.moves.urllib', 'requests.packages.urllib3.packages.six.moves.urllib.parse', 'requests.packages.urllib3.request', 'requests.packages.urllib3.response', 'requests.packages.urllib3.util.queue', 'requests.packages.urllib3.connectionpool', 'requests.packages.urllib3.poolmanager', 'requests.packages.urllib3', 'idna.package_data', 'idna.idnadata', 'idna.intranges', 'idna.core', 'idna', 'requests.packages.idna.package_data', 'requests.packages.idna.idnadata', 'requests.packages.idna.intranges', 'requests.packages.idna.core', 'requests.packages.idna', 'requests.packages.chardet', 'requests.packages', 'requests.hooks', 'requests.auth', 'requests.status_codes', 'requests.models', 'socks', 'urllib3.contrib.socks', 'requests.adapters', 'requests.sessions', 'requests.api', 'requests', 'smart_open.http', 'botocore', 'botocore.vendored', 'botocore.vendored.six', 'botocore.vendored.requests.packages.urllib3.exceptions', 'botocore.vendored.requests.packages.urllib3', 'botocore.vendored.requests.packages', 'botocore.vendored.requests.exceptions', 'botocore.vendored.requests', 'botocore.exceptions', 'botocore.vendored.six.moves', 'xml.etree.cElementTree', 'botocore.compat', 'botocore.configloader', 'cgi', 'cryptography.__about__', 'cryptography', 'cryptography.utils', 'cryptography.hazmat', 'cryptography.hazmat.bindings', 'cryptography.hazmat.bindings._rust', 'cryptography.x509.certificate_transparency', 'cryptography.hazmat.primitives', 'cryptography.exceptions', 'cryptography.hazmat.primitives.hashes', 'cryptography.hazmat.primitives._serialization', 'cryptography.hazmat.primitives.asymmetric', 'cryptography.hazmat.primitives.asymmetric.dh', 'cryptography.hazmat.primitives.asymmetric.utils', 'cryptography.hazmat.primitives.asymmetric.dsa', 'cryptography.hazmat._oid', 'cryptography.hazmat.primitives.asymmetric.ec', 'cryptography.hazmat.primitives.asymmetric.ed25519', 'cryptography.hazmat.primitives.asymmetric.ed448', 'cryptography.hazmat.primitives._asymmetric', 'cryptography.hazmat.primitives.asymmetric.rsa', 'cryptography.hazmat.primitives.asymmetric.x25519', 'cryptography.hazmat.primitives.asymmetric.x448', 'cryptography.hazmat.primitives.asymmetric.types', 'cryptography.hazmat.primitives.serialization.base', 'cryptography.hazmat.primitives._cipheralgorithm', 'cryptography.hazmat.primitives.ciphers.modes', 'cryptography.hazmat.primitives.ciphers.base', 'cryptography.hazmat.primitives.ciphers', 'cryptography.hazmat.primitives.ciphers.algorithms', 'cryptography.hazmat.primitives.serialization.ssh', 'cryptography.hazmat.primitives.serialization', 'cryptography.hazmat.primitives.constant_time', 'cryptography.x509.oid', 'cryptography.x509.name', 'cryptography.x509.general_name', 'cryptography.x509.extensions', 'cryptography.x509.base', 'cryptography.x509', 'cryptography.hazmat.bindings.openssl', '_openssl.lib', '_openssl', 'cryptography.hazmat.bindings._openssl', 'cryptography.hazmat.bindings.openssl._conditional', 'cryptography.hazmat.bindings.openssl.binding', 'OpenSSL._util', 'OpenSSL.crypto', 'OpenSSL.SSL', 'OpenSSL.version', 'OpenSSL', 'cryptography.hazmat.backends.interfaces', 'cryptography.hazmat.backends', 'cryptography.hazmat.backends.openssl.aead', 'cryptography.hazmat.backends.openssl.ciphers', 'cryptography.hazmat.backends.openssl.cmac', 'cryptography.hazmat.backends.openssl.dh', 'cryptography.hazmat.backends.openssl.utils', 'cryptography.hazmat.backends.openssl.dsa', 'cryptography.hazmat.backends.openssl.ec', 'cryptography.hazmat.backends.openssl.ed25519', 'cryptography.hazmat.backends.openssl.ed448', 'cryptography.hazmat.backends.openssl.hashes', 'cryptography.hazmat.backends.openssl.hmac', 'cryptography.hazmat.backends.openssl.poly1305', 'cryptography.hazmat.primitives.asymmetric.padding', 'cryptography.hazmat.backends.openssl.rsa', 'cryptography.hazmat.backends.openssl.x25519', 'cryptography.hazmat.backends.openssl.x448', 'cryptography.hazmat.primitives.kdf', 'cryptography.hazmat.primitives.kdf.scrypt', 'cryptography.hazmat.primitives.serialization.pkcs7', 'cryptography.hazmat.primitives.serialization.pkcs12', 'cryptography.hazmat.backends.openssl.backend', 'cryptography.hazmat.backends.openssl', 'cryptography.hazmat.backends.openssl.x509', 'urllib3.packages.backports', 'urllib3.packages.backports.makefile', 'urllib3.contrib.pyopenssl', 'botocore.vendored.six.moves.urllib_parse', 'botocore.httpsession', 'botocore.vendored.six.moves.urllib', 'botocore.vendored.six.moves.urllib.request', 'botocore.utils', 'botocore.awsrequest', 'botocore.hooks', 'botocore.history', 'botocore.eventstream', 'botocore.parsers', 'botocore.response', 'botocore.endpoint', 'botocore.config', 'botocore.credentials', 'jmespath.compat', 'jmespath.exceptions', 'jmespath.lexer', 'jmespath.ast', 'jmespath.functions', 'jmespath.visitor', 'jmespath.parser', 'jmespath', 'botocore.docs.utils', 'botocore.docs.shape', 'botocore.docs.params', 'botocore.docs.example', 'botocore.docs.method', 'botocore.docs.sharedexample', 'botocore.docs.client', 'botocore.docs.waiter', 'botocore.docs.paginator', 'botocore.docs.bcdoc', '_markupbase', 'html.parser', 'botocore.docs.bcdoc.docstringparser', 'botocore.docs.bcdoc.style', 'botocore.docs.bcdoc.restdoc', 'botocore.docs.service', 'botocore.docs', 'botocore.docs.docstring', 'botocore.waiter', 'botocore.validate', 'botocore.serialize', 'botocore.auth', 'botocore.signers', 'botocore.args', 'botocore.model', 'botocore.paginate', 'botocore.discovery', 'botocore.retries', 'botocore.retries.quota', 'botocore.retries.base', 'botocore.retries.special', 'botocore.retries.standard', 'botocore.retries.bucket', 'botocore.retries.throttling', 'botocore.retries.adaptive', 'botocore.client', 'botocore.configprovider', 'botocore.errorfactory', 'botocore.retryhandler', 'botocore.translate', 'botocore.handlers', 'botocore.loaders', 'botocore.regions', 'botocore.monitoring', 'botocore.session', 'boto3.utils', 'boto3.exceptions', 'boto3.resources', 'boto3.resources.params', 'boto3.resources.response', 'boto3.resources.model', 'boto3.docs.client', 'boto3.docs.base', 'boto3.docs.method', 'boto3.docs.utils', 'boto3.docs.action', 'boto3.docs.waiter', 'boto3.docs.collection', 'boto3.docs.subresource', 'boto3.docs.attr', 'boto3.docs.resource', 'boto3.docs.service', 'boto3.docs', 'boto3.docs.docstring', 'boto3.resources.action', 'boto3.resources.base', 'boto3.resources.collection', 'boto3.resources.factory', 'boto3.session', 'boto3', 'multiprocessing.pool', 'smart_open.concurrency', 'smart_open.s3', 'smart_open.ssh', 'smart_open.webhdfs', 'smart_open.transport', 'smart_open.doctools', 'smart_open.smart_open_lib', 'smart_open', 'gensim.utils', 'gensim.parsing.preprocessing', 'gensim.parsing', 'scipy.spatial._ckdtree', 'scipy.spatial._kdtree', 'scipy._lib.messagestream', 'scipy.spatial._qhull', 'scipy.spatial._voronoi', 'scipy.spatial._spherical_voronoi', 'scipy._lib.decorator', 'scipy.spatial._plotutils', 'scipy.linalg._fblas', 'scipy.linalg.blas', 'scipy.linalg._flapack', 'scipy.linalg.lapack', 'scipy.linalg._misc', 'scipy.linalg._cythonized_array_utils', 'scipy.linalg._flinalg', 'scipy.linalg._flinalg_py', 'scipy.linalg._decomp', 'scipy.linalg._decomp_svd', 'scipy.linalg._solve_toeplitz', 'scipy.linalg._basic', 'scipy.linalg._decomp_lu', 'scipy.linalg._decomp_ldl', 'scipy.linalg._decomp_cholesky', 'scipy.linalg._decomp_qr', 'scipy.linalg._decomp_qz', 'scipy.linalg._decomp_schur', 'scipy.linalg._decomp_polar', 'scipy.linalg._special_matrices', 'scipy.linalg._expm_frechet', 'scipy.linalg._matfuncs_sqrtm_triu', 'scipy.linalg._matfuncs_sqrtm', 'scipy.linalg._matfuncs', 'scipy.linalg._solvers', 'scipy.linalg._procrustes', 'scipy.linalg.cython_blas', 'scipy.linalg.cython_lapack', 'scipy.linalg._decomp_update', 'scipy.linalg._sketches', 'scipy.linalg._decomp_cossin', 'scipy.linalg.decomp', 'scipy.linalg.decomp_cholesky', 'scipy.linalg.decomp_lu', 'scipy.linalg.decomp_qr', 'scipy.linalg.decomp_svd', 'scipy.linalg.decomp_schur', 'scipy.linalg.basic', 'scipy.linalg.misc', 'scipy.linalg.special_matrices', 'scipy.linalg.flinalg', 'scipy.linalg.matfuncs', 'scipy.linalg', 'scipy.spatial._procrustes', 'scipy.spatial._distance_wrap', 'scipy.spatial._hausdorff', 'scipy.special._sf_error', 'scipy.special._ufuncs_cxx', 'scipy.special._ufuncs', 'scipy.special._specfun', 'scipy.special._orthogonal', 'scipy.special._comb', 'scipy.special._basic', 'scipy.special._logsumexp', 'scipy.special._spfun_stats', 'scipy.special._ellip_harm_2', 'scipy.special._ellip_harm', 'scipy.special._lambertw', 'scipy.special._spherical_bessel', 'scipy.special._add_newdocs', 'scipy.special.add_newdocs', 'scipy.special.basic', 'scipy.special.orthogonal', 'scipy.special.specfun', 'scipy.special.sf_error', 'scipy.special.spfun_stats', 'scipy.special', 'scipy.spatial._distance_pybind', 'scipy.spatial.distance', 'scipy.spatial._geometric_slerp', 'scipy.spatial.ckdtree', 'scipy.spatial.kdtree', 'scipy.spatial.qhull', 'scipy.constants._codata', 'scipy.constants._constants', 'scipy.constants.codata', 'scipy.constants.constants', 'scipy.constants', 'scipy.spatial.transform._rotation_groups', 'scipy.spatial.transform._rotation', 'scipy.spatial.transform._rotation_spline', 'scipy.spatial.transform.rotation', 'scipy.spatial.transform', 'scipy.spatial', 'scipy.ndimage._ni_support', 'scipy.ndimage._nd_image', 'scipy._lib.doccer', 'scipy.ndimage._ni_docstrings', 'scipy.ndimage._filters', 'scipy.ndimage._fourier', 'scipy.ndimage._interpolation', '_ni_label', 'scipy.ndimage._ni_label', 'scipy.ndimage._morphology', 'scipy.ndimage._measurements', 'scipy.ndimage.filters', 'scipy.ndimage.fourier', 'scipy.ndimage.interpolation', 'scipy.ndimage.measurements', 'scipy.ndimage.morphology', 'scipy.ndimage', 'scipy.stats._distr_params', 'scipy.sparse.linalg._isolve._iterative', 'scipy.sparse.linalg._interface', 'scipy.sparse.linalg._isolve.utils', 'scipy._lib._threadsafety', 'scipy.sparse.linalg._isolve.iterative', 'scipy.sparse.linalg._isolve.minres', 'scipy.sparse.linalg._isolve._gcrotmk', 'scipy.sparse.linalg._isolve.lgmres', 'scipy.sparse.linalg._isolve.lsqr', 'scipy.sparse.linalg._isolve.lsmr', 'scipy.sparse.linalg._isolve.tfqmr', 'scipy.sparse.linalg._isolve', 'scipy.sparse.linalg._dsolve._superlu', 'scipy.sparse.linalg._dsolve.linsolve', 'scipy.sparse.linalg._dsolve._add_newdocs', 'scipy.sparse.linalg._dsolve', 'scipy.sparse.linalg._eigen.arpack._arpack', 'scipy.sparse.linalg._eigen.arpack.arpack', 'scipy.sparse.linalg._eigen.arpack', 'scipy.sparse.linalg._eigen.lobpcg.lobpcg', 'scipy.sparse.linalg._eigen.lobpcg', 'scipy.sparse.linalg._eigen._svds', 'scipy.sparse.linalg._eigen', 'scipy.sparse.linalg._expm_multiply', 'scipy.sparse.linalg._matfuncs', 'scipy.sparse.linalg._onenormest', 'scipy.sparse.linalg._norm', 'scipy.sparse.linalg.isolve', 'scipy.sparse.linalg.dsolve', 'scipy.sparse.linalg.interface', 'scipy.sparse.linalg.eigen', 'scipy.sparse.linalg.matfuncs', 'scipy.sparse.linalg', 'scipy.optimize._minpack2', 'scipy.optimize._linesearch', 'scipy.optimize._group_columns', 'scipy.optimize._numdiff', 'scipy.optimize._hessian_update_strategy', 'scipy.optimize._differentiable_functions', 'scipy.optimize._optimize', 'scipy.optimize._trustregion', 'scipy.optimize._trustregion_dogleg', 'scipy.optimize._trustregion_ncg', 'scipy.optimize._trlib._trlib', 'scipy.optimize._trlib', 'scipy.optimize._trustregion_krylov', 'scipy.optimize._trustregion_exact', 'unittest.util', 'unittest.result', 'unittest.case', 'unittest.async_case', 'unittest.suite', 'unittest.loader', 'unittest.signals', 'unittest.runner', 'unittest.main', 'unittest', 'numpy.testing._private', 'numpy.testing._private.utils', 'numpy.testing._private.decorators', 'numpy.testing._private.nosetester', 'numpy.testing', 'scipy.optimize._constraints', 'scipy.optimize._trustregion_constr.projections', 'scipy.optimize._trustregion_constr.qp_subproblem', 'scipy.optimize._trustregion_constr.equality_constrained_sqp', 'scipy.optimize._trustregion_constr.canonical_constraint', 'scipy.optimize._trustregion_constr.tr_interior_point', 'scipy.optimize._trustregion_constr.report', 'scipy.optimize._trustregion_constr.minimize_trustregion_constr', 'scipy.optimize._trustregion_constr', 'scipy.optimize._lbfgsb', 'scipy.optimize._lbfgsb_py', '_moduleTNC', 'scipy.optimize._moduleTNC', 'scipy.optimize._tnc', 'scipy.optimize._cobyla', 'scipy.optimize._cobyla_py', 'scipy.optimize._slsqp', 'scipy.optimize._slsqp_py', 'scipy.optimize._minimize', 'scipy.optimize._minpack', 'scipy.optimize._lsq.common', 'scipy.optimize._lsq.trf', 'scipy.optimize._lsq.dogbox', 'scipy.optimize._lsq.least_squares', 'scipy.optimize._lsq.givens_elimination', 'scipy.optimize._lsq.trf_linear', 'scipy.optimize._lsq.bvls', 'scipy.optimize._lsq.lsq_linear', 'scipy.optimize._lsq', 'scipy.optimize._minpack_py', 'scipy.optimize._spectral', 'scipy.optimize._nonlin', 'scipy.optimize._root', 'scipy.optimize._zeros', 'scipy.optimize._zeros_py', 'scipy.optimize._root_scalar', 'scipy.optimize.__nnls', 'scipy.optimize._nnls', 'scipy.optimize._basinhopping', 'scipy.optimize._highs', 'scipy.optimize._highs.cython.src._highs_wrapper', 'scipy.optimize._highs._highs_wrapper', 'scipy.optimize._highs.cython.src._highs_constants', 'scipy.optimize._highs._highs_constants', 'scipy.optimize._linprog_highs', 'scipy.linalg._interpolative', 'scipy.linalg._interpolative_backend', 'scipy.linalg.interpolative', 'scipy.optimize._remove_redundancy', 'scipy.optimize._linprog_util', 'scipy.optimize._linprog_ip', 'scipy.optimize._linprog_simplex', 'scipy.optimize._bglu_dense', 'scipy.optimize._linprog_rs', 'scipy.optimize._linprog_doc', 'scipy.optimize._linprog', 'scipy.optimize._lsap_module', 'scipy.optimize._lsap', 'scipy.optimize._differentialevolution', 'scipy.optimize._shgo_lib', 'scipy.optimize._shgo_lib.triangulation', 'scipy.optimize._shgo', 'scipy.optimize._dual_annealing', 'scipy.optimize._qap', 'scipy.optimize.cobyla', 'scipy.optimize.lbfgsb', 'scipy.optimize.linesearch', 'scipy.optimize.minpack', 'scipy.optimize.minpack2', 'scipy.optimize.moduleTNC', 'scipy.optimize.nonlin', 'scipy.optimize.optimize', 'scipy.optimize.slsqp', 'scipy.optimize.tnc', 'scipy.optimize.zeros', 'scipy.optimize', 'scipy.integrate._quadrature', 'scipy.integrate._odepack', 'scipy.integrate._odepack_py', 'scipy.integrate._quadpack', 'scipy.integrate._quadpack_py', 'scipy.integrate._vode', 'scipy.integrate._dop', 'scipy.integrate._lsoda', 'scipy.integrate._ode', 'scipy.integrate._bvp', 'scipy.integrate._ivp.common', 'scipy.integrate._ivp.base', 'scipy.integrate._ivp.bdf', 'scipy.integrate._ivp.radau', 'scipy.integrate._ivp.dop853_coefficients', 'scipy.integrate._ivp.rk', 'scipy.integrate._ivp.lsoda', 'scipy.integrate._ivp.ivp', 'scipy.integrate._ivp', 'scipy.integrate._quad_vec', 'scipy.integrate.dop', 'scipy.integrate.lsoda', 'scipy.integrate.vode', 'scipy.integrate.odepack', 'scipy.integrate.quadpack', 'scipy.integrate', 'scipy.misc._common', 'scipy.misc.common', 'scipy.misc._doccer', 'scipy.misc.doccer', 'scipy.misc', 'scipy.stats._constants', 'scipy.stats._distn_infrastructure', 'scipy.interpolate._fitpack', 'scipy.interpolate.dfitpack', 'scipy.interpolate._fitpack_impl', 'scipy.interpolate._bspl', 'scipy.interpolate._bsplines', 'scipy.interpolate._fitpack_py', 'scipy.interpolate._polyint', 'scipy.interpolate._ppoly', 'scipy.interpolate._fitpack2', 'scipy.interpolate.interpnd', 'scipy.interpolate._interpolate', 'scipy.interpolate._rbf', 'scipy.interpolate._rbfinterp_pythran', 'scipy.interpolate._rbfinterp', 'scipy.interpolate._cubic', 'scipy.interpolate._ndgriddata', 'scipy.interpolate._pade', 'scipy.interpolate.fitpack', 'scipy.interpolate.fitpack2', 'scipy.interpolate.interpolate', 'scipy.interpolate.ndgriddata', 'scipy.interpolate.polyint', 'scipy.interpolate.rbf', 'scipy.interpolate', 'scipy.special.cython_special', 'scipy.stats._stats', 'scipy.stats._tukeylambda_stats', 'scipy.stats._ksstats', 'beta_ufunc', 'scipy.stats._boost.beta_ufunc', 'binom_ufunc', 'scipy.stats._boost.binom_ufunc', 'nbinom_ufunc', 'scipy.stats._boost.nbinom_ufunc', 'hypergeom_ufunc', 'scipy.stats._boost.hypergeom_ufunc', 'scipy.stats._boost', 'scipy.stats._continuous_distns', 'scipy.stats._biasedurn', 'scipy.stats._discrete_distns', 'scipy.stats._entropy', 'scipy.stats.distributions', 'scipy._lib._bunch', 'scipy.stats._stats_mstats_common', 'scipy.stats._mstats_basic', 'scipy.stats._common', 'scipy.stats._wilcoxon_data', 'scipy._lib._docscrape', 'scipy.stats._axis_nan_policy', 'scipy.stats._bootstrap', 'scipy.stats._hypotests_pythran', 'scipy.stats._hypotests', 'scipy.stats._stats_py', 'scipy.stats._variation', 'scipy.stats._statlib', 'scipy.stats._relative_risk', 'scipy.stats._crosstab', 'scipy.stats.contingency', 'scipy.stats._morestats', 'scipy.stats._binomtest', 'scipy.stats._binned_statistic', 'scipy.stats._mvn', 'scipy.stats._kde', 'scipy.stats._mstats_extras', 'scipy.stats.mstats', 'scipy.stats._sobol', 'scipy.stats._qmc_cy', 'scipy.stats._qmc', 'scipy.stats.qmc', 'scipy.stats._multivariate', 'scipy.stats._unuran', 'scipy.stats._unuran.unuran_wrapper', 'scipy.stats._rvs_sampling', 'scipy.stats._page_trend_test', 'scipy.stats._mannwhitneyu', 'scipy.stats.biasedurn', 'scipy.stats.kde', 'scipy.stats.morestats', 'scipy.stats.mstats_basic', 'scipy.stats.mstats_extras', 'scipy.stats.mvn', 'scipy.stats.statlib', 'scipy.stats.stats', 'scipy.stats', '_cython_0_29_23', 'gensim._matutils', 'gensim.corpora._mmreader', 'gensim.matutils', 'gensim.interfaces', 'gensim.corpora.indexedcorpus', 'gensim.corpora.mmcorpus', 'gensim.corpora.bleicorpus', 'gensim.corpora.svmlightcorpus', 'gensim.corpora.lowcorpus', 'gensim.corpora.dictionary', 'gensim.corpora.hashdictionary', 'gensim.corpora.textcorpus', 'gensim.corpora.wikicorpus', 'gensim.corpora.ucicorpus', 'gensim.corpora.malletcorpus', 'gensim.corpora.opinosiscorpus', 'gensim.corpora', 'gensim.topic_coherence', 'gensim.topic_coherence.segmentation', 'gensim.models.keyedvectors', 'gensim.models.word2vec_inner', 'gensim.models.word2vec_corpusfile', 'gensim.models.word2vec', 'gensim.topic_coherence.text_analysis', 'gensim.topic_coherence.probability_estimation', 'gensim.topic_coherence.direct_confirmation_measure', 'gensim.topic_coherence.indirect_confirmation_measure', 'gensim.topic_coherence.aggregation', 'gensim.models.coherencemodel', 'gensim.models.basemodel', 'gensim.models.callbacks', 'gensim.models.ldamodel', 'gensim.models.hdpmodel', 'gensim.models.lsimodel', 'gensim.models.tfidfmodel', 'gensim.models.rpmodel', 'gensim.models.logentropy_model', 'gensim.models.doc2vec_inner', 'gensim.models.doc2vec_corpusfile', 'gensim.models.doc2vec', 'gensim.models.ldamulticore', 'gensim.models.phrases', 'gensim.models.normmodel', 'gensim.models.atmodel', 'gensim.models.ldaseqmodel', 'gensim.models._fasttext_bin', 'gensim.models.fasttext_inner', 'gensim.models.fasttext_corpusfile', 'gensim.models.fasttext', 'gensim.models.translation_matrix', 'gensim.models.ensemblelda', 'gensim.models.nmf_pgd', 'gensim.models.nmf', 'gensim.models', 'gensim.similarities.termsim', 'gensim.similarities.fastss', 'gensim.similarities.levenshtein', 'gensim.similarities.docsim', 'gensim.similarities', 'gensim', 'pytorch_lightning.__about__', 'pytorch_lightning.utilities.exceptions', 'logging.config', 'hydra._internal', 'hydra._internal.instantiate', 'antlr4.Token', 'antlr4.InputStream', 'antlr4.FileStream', 'antlr4.StdinStream', 'antlr4.error', 'antlr4.tree', 'antlr4.tree.Tree', 'antlr4.Utils', 'antlr4.tree.Trees', 'antlr4.RuleContext', 'antlr4.ParserRuleContext', 'antlr4.error.ErrorListener', 'antlr4.Recognizer', 'antlr4.error.Errors', 'antlr4.BufferedTokenStream', 'antlr4.CommonTokenFactory', 'antlr4.atn', 'antlr4.IntervalSet', 'antlr4.atn.ATNType', 'antlr4.atn.SemanticContext', 'antlr4.atn.Transition', 'antlr4.atn.ATNState', 'antlr4.atn.ATN', 'antlr4.PredictionContext', 'antlr4.atn.LexerAction', 'antlr4.atn.LexerActionExecutor', 'antlr4.atn.ATNConfig', 'antlr4.atn.ATNConfigSet', 'antlr4.dfa', 'antlr4.dfa.DFAState', 'antlr4.atn.ATNSimulator', 'antlr4.atn.LexerATNSimulator', 'antlr4.Lexer', 'antlr4.CommonTokenStream', 'antlr4.error.ErrorStrategy', 'antlr4.atn.ATNDeserializationOptions', 'antlr4.atn.ATNDeserializer', 'antlr4.ListTokenSource', 'antlr4.tree.Chunk', 'antlr4.tree.RuleTagToken', 'antlr4.tree.TokenTagToken', 'antlr4.tree.ParseTreePatternMatcher', 'antlr4.Parser', 'antlr4.dfa.DFA', 'antlr4.atn.PredictionMode', 'antlr4.atn.ParserATNSimulator', 'antlr4.error.DiagnosticErrorListener', 'antlr4', 'yaml.error', 'yaml.tokens', 'yaml.events', 'yaml.nodes', 'yaml.reader', 'yaml.scanner', 'yaml.parser', 'yaml.composer', 'yaml.constructor', 'yaml.resolver', 'yaml.loader', 'yaml.emitter', 'yaml.serializer', 'yaml.representer', 'yaml.dumper', 'yaml._yaml', 'yaml.cyaml', 'yaml', 'omegaconf.errors', 'omegaconf.grammar', 'omegaconf.grammar.gen', 'omegaconf.grammar.gen.OmegaConfGrammarLexer', 'omegaconf.grammar.gen.OmegaConfGrammarParser', 'omegaconf.grammar.gen.OmegaConfGrammarParserVisitor', 'omegaconf.grammar_visitor', 'omegaconf.grammar_parser', 'attr._compat', 'attr._config', 'attr.exceptions', 'attr.setters', 'attr._make', 'attr.converters', 'attr.filters', 'attr.validators', 'attr._cmp', 'attr._funcs', 'attr._version_info', 'attr._next_gen', 'attr', 'omegaconf._utils', 'omegaconf.base', 'omegaconf.basecontainer', 'omegaconf.nodes', 'omegaconf.dictconfig', 'omegaconf.listconfig', 'omegaconf.resolvers.oc.dict', 'omegaconf.resolvers.oc', 'omegaconf.resolvers', 'omegaconf.omegaconf', 'omegaconf.version', 'omegaconf', 'hydra.core', 'hydra.core.config_search_path', 'hydra._internal.config_search_path_impl', 'hydra.errors', 'hydra._internal.deprecation_warning', 'hydra.core.object_type', 'hydra.core.singleton', 'hydra.plugins', 'hydra.core.default_element', 'hydra.plugins.plugin', 'hydra.plugins.config_source', 'hydra.core.config_store', 'hydra.conf', 'hydra.core.hydra_config', 'hydra.types', 'hydra.core.utils', 'hydra._internal.utils', 'hydra._internal.instantiate._instantiate2', 'hydra.utils', 'hydra.main', 'hydra.core.config_loader', 'hydra._internal.callbacks', 'hydra._internal.sources_registry', 'hydra.plugins.completion_plugin', 'hydra.plugins.launcher', 'hydra.plugins.search_path_plugin', 'hydra.plugins.sweeper', 'hydra.core.plugins', 'hydra._internal.config_repository', 'hydra.core.override_parser', 'hydra._internal.grammar', 'hydra._internal.grammar.utils', 'hydra.core.override_parser.types', 'hydra._internal.defaults_list', 'hydra._internal.grammar.grammar_functions', 'hydra._internal.grammar.functions', 'hydra.grammar', 'hydra.grammar.gen', 'hydra.grammar.gen.OverrideLexer', 'hydra.grammar.gen.OverrideParser', 'hydra.grammar.gen.OverrideParserVisitor', 'hydra.core.override_parser.overrides_visitor', 'hydra.core.override_parser.overrides_parser', 'hydra._internal.config_loader_impl', 'hydra._internal.hydra', 'hydra.core.global_hydra', 'hydra.compose', 'hydra.initialize', 'hydra', 'hydra.experimental.compose', 'hydra.experimental.initialize', 'hydra.experimental', 'torchtext.data.utils', 'torchtext.data.metrics', 'torchtext.data.functional', 'torchtext.data', 'torchtext.nn.modules.multiheadattention', 'torchtext.nn.modules', 'torchtext.nn', 'torchtext._internal', 'torchtext._internal.module_utils', '_csv', 'csv', 'torchtext._download_hooks', 'torchtext.utils', 'torchtext.data.datasets_utils', 'torchtext.datasets.ag_news', 'torchtext.datasets.amazonreviewfull', 'torchtext.datasets.amazonreviewpolarity', 'torchtext.datasets.cc100', 'torchtext.datasets.conll2000chunking', 'torchtext.datasets.dbpedia', 'torchtext.datasets.enwik9', 'torchtext.datasets.imdb', 'torchtext.datasets.iwslt2016', 'torchtext.datasets.iwslt2017', 'torchtext.datasets.multi30k', 'torchtext.datasets.penntreebank', 'torchtext.datasets.sogounews', 'torchtext.datasets.squad1', 'torchtext.datasets.squad2', 'torchtext.datasets.sst2', 'torchtext.datasets.udpos', 'torchtext.datasets.wikitext103', 'torchtext.datasets.wikitext2', 'torchtext.datasets.yahooanswers', 'torchtext.datasets.yelpreviewfull', 'torchtext.datasets.yelpreviewpolarity', 'torchtext.datasets', 'torchtext.vocab.vocab', 'torchtext.vocab.vectors', 'torchtext._torchtext', 'torchtext.vocab.vocab_factory', 'torchtext.vocab', 'torchtext.functional', 'torchtext.transforms', 'torchtext.models.roberta.modules', 'torchtext.models.roberta.model', 'torchtext.models.roberta.bundler', 'torchtext.models.roberta', 'torchtext.models', 'torchtext._extension', 'torchtext.version', 'torchtext', 'wandb.errors', 'click._winconsole', 'click._compat', 'click.globals', 'click.utils', 'click.exceptions', 'click.types', 'click.parser', 'click.formatting', 'click.termui', 'click.core', 'click.decorators', 'click', 'wandb.errors.term', 'wandb.sdk.lib.lazyloader', 'wandb.sdk.lib.disabled', 'wandb.sdk.lib', 'sentry_sdk._types', 'sentry_sdk._compat', 'sentry_sdk._functools', 'sentry_sdk.utils', 'sentry_sdk.tracing_utils', 'sentry_sdk.tracing', 'sentry_sdk.session', 'sentry_sdk.envelope', 'sentry_sdk.attachments', 'sentry_sdk.scope', 'sentry_sdk.serializer', 'sentry_sdk._queue', 'sentry_sdk.consts', 'sentry_sdk.worker', 'sentry_sdk.transport', 'sentry_sdk.integrations', 'sentry_sdk.sessions', 'sentry_sdk.client', 'sentry_sdk.hub', 'sentry_sdk.api', 'sentry_sdk.debug', 'sentry_sdk', 'shortuuid.main', 'shortuuid', 'setuptools._distutils', 'distutils.debug', 'distutils.errors', 'distutils.fancy_getopt', 'distutils.dep_util', 'distutils.log', 'distutils.spawn', 'distutils.py35compat', 'distutils.util', 'distutils.dist', 'distutils.dir_util', 'distutils.file_util', 'distutils.archive_util', 'distutils.cmd', 'distutils.config', 'distutils.extension', 'distutils.core', '_distutils_hack.override', 'setuptools._deprecation_warning', 'setuptools.version', 'distutils.filelist', 'setuptools.monkey', 'setuptools.extension', 'distutils.command', 'setuptools.extern', 'setuptools._vendor', 'setuptools._vendor.packaging.__about__', 'setuptools._vendor.packaging', 'setuptools.extern.packaging', 'setuptools._vendor.ordered_set', 'setuptools.extern.ordered_set', 'setuptools._vendor.more_itertools.recipes', 'setuptools._vendor.more_itertools.more', 'setuptools._vendor.more_itertools', 'setuptools.extern.more_itertools', 'setuptools._vendor.pyparsing', 'setuptools.extern.pyparsing', 'setuptools._vendor.packaging._manylinux', 'setuptools._vendor.packaging._musllinux', 'setuptools.extern.packaging.tags', 'setuptools.extern.packaging._structures', 'setuptools.extern.packaging.version', 'setuptools.extern.packaging.utils', 'setuptools.extern.packaging.specifiers', 'setuptools.extern.packaging.markers', 'setuptools.extern.packaging.requirements', 'setuptools._vendor.jaraco', 'setuptools.extern.jaraco', 'setuptools.extern.jaraco.context', 'setuptools.extern.jaraco.functools', 'setuptools._vendor.zipp', 'setuptools._vendor.importlib_metadata._functools', 'setuptools._vendor.importlib_metadata._text', 'setuptools._vendor.importlib_metadata._adapters', 'setuptools._vendor.importlib_metadata._compat', 'setuptools._vendor.importlib_metadata._meta', 'setuptools._vendor.importlib_metadata._collections', 'setuptools._vendor.importlib_metadata._itertools', 'setuptools._vendor.importlib_metadata', 'setuptools.extern.importlib_metadata', 'setuptools._vendor.nspektr._compat', 'setuptools._vendor.nspektr', 'setuptools.extern.nspektr', 'zipp', 'importlib_metadata._functools', 'importlib_metadata._text', 'importlib_metadata._adapters', 'importlib_metadata._compat', 'importlib_metadata._meta', 'importlib_metadata._collections', 'importlib_metadata._itertools', 'importlib_metadata', 'setuptools._vendor.importlib_resources._compat', 'setuptools._vendor.importlib_resources.abc', 'setuptools._vendor.importlib_resources._common', 'setuptools._vendor.importlib_resources._legacy', 'setuptools._vendor.importlib_resources', 'setuptools.extern.importlib_resources', 'setuptools._importlib', 'distutils.command.bdist', 'setuptools.command', 'setuptools.windows_support', 'setuptools.config.expand', 'setuptools.config.setupcfg', 'setuptools.config', 'setuptools.errors', 'email._header_value_parser', 'email.headerregistry', 'setuptools.config._apply_pyprojecttoml', 'setuptools.config.pyprojecttoml', 'setuptools.discovery', 'setuptools.extern.jaraco.text', 'setuptools._reqs', 'setuptools._itertools', 'setuptools._entry_points', 'setuptools.dist', 'setuptools.py34compat', 'setuptools._imp', 'setuptools.depends', 'setuptools.logging', 'distutils.ccompiler', 'distutils.msvc9compiler', 'setuptools.msvc', 'unittest.mock', 'distutils._msvccompiler', 'setuptools', 'distutils', 'wandb.env', 'wandb.util', 'wandb.sdk.lib.filesystem', 'wandb.sdk.lib.config_util', 'wandb.sdk.wandb_helper', 'wandb.sdk.wandb_alerts', 'wandb.sdk.internal', 'wandb_graphql.pyutils', 'wandb_graphql.pyutils.version', 'six.moves.collections_abc', 'promise.pyutils', 'promise.pyutils.version', 'promise.async_', 'promise.iterate_promise', 'promise.compat', 'promise.utils', 'promise.promise_list', 'promise.schedulers', 'promise.schedulers.immediate', 'promise.promise', 'promise', 'wandb_graphql.language', 'wandb_graphql.language.location', 'wandb_graphql.error.base', 'wandb_graphql.error.located_error', 'wandb_graphql.error.syntax_error', 'wandb_graphql.error.format_error', 'wandb_graphql.error', 'wandb_graphql.pyutils.default_ordered_dict', 'wandb_graphql.pyutils.ordereddict', 'wandb_graphql.language.ast', 'wandb_graphql.pyutils.cached_property', 'wandb_graphql.utils', 'wandb_graphql.utils.assert_valid_name', 'wandb_graphql.type.definition', 'wandb_graphql.type.scalars', 'wandb_graphql.type.directives', 'wandb_graphql.language.visitor_meta', 'wandb_graphql.language.visitor', 'wandb_graphql.language.printer', 'wandb_graphql.utils.ast_from_value', 'wandb_graphql.type.introspection', 'wandb_graphql.utils.type_comparators', 'wandb_graphql.type.typemap', 'wandb_graphql.type.schema', 'wandb_graphql.type', 'wandb_graphql.utils.type_from_ast', 'wandb_graphql.utils.is_valid_value', 'wandb_graphql.utils.value_from_ast', 'wandb_graphql.execution.values', 'wandb_graphql.execution.base', 'wandb_graphql.execution.executors', 'wandb_graphql.execution.executors.sync', 'wandb_graphql.execution.experimental', 'wandb_graphql.execution.middleware', 'wandb_graphql.execution.experimental.fragment', 'wandb_graphql.execution.experimental.executor', 'wandb_graphql.execution.executor', 'wandb_graphql.execution', 'wandb_graphql.language.lexer', 'wandb_graphql.language.source', 'wandb_graphql.language.parser', 'wandb_graphql.utils.get_field_def', 'wandb_graphql.utils.type_info', 'wandb_graphql.utils.is_valid_literal_value', 'wandb_graphql.validation.rules.base', 'wandb_graphql.validation.rules.arguments_of_correct_type', 'wandb_graphql.validation.rules.default_values_of_correct_type', 'wandb_graphql.utils.quoted_or_list', 'wandb_graphql.utils.suggestion_list', 'wandb_graphql.validation.rules.fields_on_correct_type', 'wandb_graphql.validation.rules.fragments_on_composite_types', 'wandb_graphql.validation.rules.known_argument_names', 'wandb_graphql.validation.rules.known_directives', 'wandb_graphql.validation.rules.known_fragment_names', 'wandb_graphql.validation.rules.known_type_names', 'wandb_graphql.validation.rules.lone_anonymous_operation', 'wandb_graphql.validation.rules.no_fragment_cycles', 'wandb_graphql.validation.rules.no_undefined_variables', 'wandb_graphql.validation.rules.no_unused_fragments', 'wandb_graphql.validation.rules.no_unused_variables', 'wandb_graphql.pyutils.pair_set', 'wandb_graphql.validation.rules.overlapping_fields_can_be_merged', 'wandb_graphql.validation.rules.possible_fragment_spreads', 'wandb_graphql.validation.rules.provided_non_null_arguments', 'wandb_graphql.validation.rules.scalar_leafs', 'wandb_graphql.validation.rules.unique_argument_names', 'wandb_graphql.validation.rules.unique_fragment_names', 'wandb_graphql.validation.rules.unique_input_field_names', 'wandb_graphql.validation.rules.unique_operation_names', 'wandb_graphql.validation.rules.unique_variable_names', 'wandb_graphql.validation.rules.variables_are_input_types', 'wandb_graphql.validation.rules.variables_in_allowed_position', 'wandb_graphql.validation.rules', 'wandb_graphql.validation.validation', 'wandb_graphql.validation', 'wandb_graphql.graphql', 'wandb_graphql.language.base', 'wandb_graphql.utils.introspection_query', 'wandb_graphql.utils.get_operation_ast', 'wandb_graphql.utils.build_client_schema', 'wandb_graphql.utils.build_ast_schema', 'wandb_graphql.utils.extend_schema', 'wandb_graphql.utils.schema_printer', 'wandb_graphql.utils.concat_ast', 'wandb_graphql.utils.base', 'wandb_graphql', 'wandb_gql.gql', 'wandb_gql.transport', 'wandb_gql.transport.local_schema', 'wandb_gql.client', 'wandb_gql', 'wandb_gql.transport.http', 'wandb_gql.transport.requests', 'wandb.old', 'wandb.old.core', 'wandb.old.settings', 'wandb.apis.normalize', 'wandb.integration', 'wandb.integration.sagemaker.auth', 'wandb.integration.sagemaker.files', 'wandb.integration.sagemaker.config', 'wandb.integration.sagemaker.resources', 'wandb.integration.sagemaker', 'wandb.sdk.lib.retry', 'wandb.sdk.lib.filenames', 'mmap', 'smmap.util', 'smmap.mman', 'smmap.buf', 'smmap', 'gitdb.const', 'gitdb.util', 'gitdb.utils', 'gitdb.utils.encoding', 'gitdb.typ', 'gitdb.fun', 'gitdb.base', 'gitdb.exc', 'gitdb.db.base', 'gitdb.stream', 'gitdb.db.loose', 'gitdb.db.mem', 'gitdb.pack', 'gitdb.db.pack', 'gitdb.db.ref', 'gitdb.db.git', 'gitdb.db', 'gitdb', 'git.compat', 'git.types', 'git.exc', 'git.util', 'git.config', 'git.objects.util', 'git.objects.base', 'git.objects.blob', 'git.cmd', 'git.diff', 'git.objects.submodule', 'git.objects.submodule.util', 'git.objects.submodule.base', 'git.objects.fun', 'git.objects.tree', 'git.objects.commit', 'git.objects.submodule.root', 'git.objects.tag', 'git.objects', 'git.refs.log', 'git.refs.symbolic', 'git.refs.reference', 'git.refs.head', 'git.refs.tag', 'git.refs.remote', 'git.refs', 'git.db', 'git.index.util', 'git.index.typ', 'git.index.fun', 'git.index.base', 'git.index', 'git.remote', 'git.repo.fun', 'git.repo.base', 'git.repo', 'git', 'wandb.sdk.lib.git', 'wandb.sdk.internal.progress', 'wandb.sdk.internal.internal_api', 'wandb.apis.internal', 'wandb.sdk.data_types', 'wandb.sdk.data_types._dtypes', 'wandb.sdk.data_types.base_types', 'wandb._globals', 'wandb.sdk.data_types.base_types.wb_value', 'wandb.sdk.data_types.base_types.media', 'wandb.sdk.data_types.helper_types', 'wandb.sdk.data_types._private', 'wandb.sdk.data_types.base_types.json_metadata', 'wandb.sdk.data_types.helper_types.bounding_boxes_2d', 'wandb.sdk.data_types.helper_types.classes', 'wandb.sdk.data_types.helper_types.image_mask', 'wandb.sdk.data_types.histogram', 'wandb.sdk.data_types.html', 'wandb.sdk.data_types.image', 'wandb.sdk.data_types.molecule', 'wandb.sdk.data_types.object_3d', 'wandb.sdk.data_types.plotly', 'wandb.sdk.interface', 'wandb.sdk.interface.artifacts', 'wandb.sdk.data_types.saved_model', 'wandb.sdk.data_types.video', 'wandb.data_types', 'wandb.sdk.data_types.utils', 'wandb.old.summary', 'wandb.sdk.lib.ipython', 'wandb.apis.public', 'wandb.apis', 'wandb.sdk.wandb_artifacts', 'wandb.sdk.wandb_config', 'wandb.trigger', 'wandb.integration.magic', 'wandb.sdk.lib.apikey', 'wandb.sdk.lib.exit_hooks', 'wandb.proto', 'google.protobuf', 'google.protobuf.internal', 'google.protobuf.internal._api_implementation', 'google.protobuf.internal.api_implementation', 'google.protobuf.pyext', 'google.protobuf.internal.enum_type_wrapper', 'google.protobuf.message', 'google.protobuf.pyext._message', 'google.protobuf.descriptor', 'google.protobuf.descriptor_database', 'google.protobuf.text_encoding', 'google.protobuf.descriptor_pool', 'google.protobuf.pyext.cpp_message', 'google.protobuf.message_factory', 'google.protobuf.symbol_database', 'google.protobuf.reflection', 'google.protobuf.internal.builder', 'google.protobuf.internal.well_known_types', 'google.protobuf.timestamp_pb2', 'wandb.proto.wandb_base_pb2', 'wandb.proto.wandb_telemetry_pb2', 'wandb.proto.wandb_internal_pb2', 'wandb.sdk.lib.proto_util', 'wandb.sdk.wandb_manager', 'wandb.sdk.lib.server', 'wandb.sdk.lib.tracelog', 'wandb.sdk.wandb_setup', 'wandb.sdk.lib.runid', 'wandb.sdk.wandb_settings', 'wandb.sdk.wandb_login', 'wandb.sdk.backend', 'wandb.sdk.interface.summary_record', 'wandb.sdk.interface.message_future', 'wandb.sdk.interface.interface', 'wandb.sdk.interface.router', 'wandb.sdk.interface.interface_shared', 'wandb.sdk.interface.router_queue', 'wandb.sdk.interface.interface_queue', 'wandb.vendor', 'wandb.vendor.pynvml', 'ctypes.util', 'wandb.vendor.pynvml.pynvml', 'wandb.sdk.internal.meta', 'wandb.sdk.internal.sample', 'wandb.sdk.internal.tpu', 'wandb.sdk.lib.telemetry', 'wandb.sdk.internal.stats', 'wandb.viz', 'wandb.sdk.wandb_metric', 'wandb.sdk.wandb_summary', 'wandb.proto.wandb_deprecated', 'wandb.sdk.lib.deprecate', 'wandb.sdk.lib.preinit', 'wandb.sdk.lib.module', 'wandb.sdk.lib.redirect', 'wandb.sdk.lib.sparkline', 'wandb.sdk.lib.printer', 'wandb.sdk.lib.reporting', 'wandb.sdk.lib.wburls', 'wandb.sdk.wandb_run', 'wandb.sdk.internal.run', 'wandb.sdk.internal.tb_watcher', 'wandb.sdk.internal.settings_static', 'wandb.sdk.lib.handler_util', 'wandb.sdk.internal.handler', 'wandb.sdk.internal.internal_util', 'wandb.filesync', 'watchdog', 'watchdog.utils.platform', 'watchdog.utils.compat', 'watchdog.utils', 'pathtools', 'pathtools.patterns', 'watchdog.utils.unicode_paths', 'watchdog.events', 'watchdog.utils.bricks', 'watchdog.observers.api', 'watchdog.observers.winapi', 'watchdog.observers.read_directory_changes', 'watchdog.observers', 'watchdog.utils.dirsnapshot', 'watchdog.observers.polling', 'wandb.filesync.dir_watcher', 'wandb.filesync.step_prepare', 'wandb.sdk.internal.artifacts', 'wandb.sdk.lib.file_stream_utils', 'wandb.sdk.internal.file_stream', 'wandb.sdk.internal.update', 'wandb.filesync.stats', 'wandb.filesync.upload_job', 'wandb.filesync.step_upload', 'wandb.filesync.step_checksum', 'wandb.sdk.internal.file_pusher', 'wandb.sdk.internal.sender', 'wandb.sdk.internal.datastore', 'wandb.sdk.internal.writer', 'wandb.sdk.internal.internal', 'wandb.sdk.backend.backend', 'wandb.sdk.wandb_init', 'wandb.sdk.wandb_require', 'wandb.sdk.wandb_save', 'wandb.sdk.wandb_sweep', 'wandb.sdk.wandb_watch', 'wandb.sdk', 'wandb.wandb_torch', 'wandb.agents', 'wandb.agents.pyagent', 'wandb.wandb_agent', 'wandb.plot.bar', 'wandb.plot.confusion_matrix', 'wandb.plot.histogram', 'wandb.plot.line', 'wandb.plot.line_series', 'wandb.plots.utils', 'wandb.plots.roc', 'wandb.plots.precision_recall', 'wandb.plots.heatmap', 'wandb.plots.explain_text', 'wandb.plots.part_of_speech', 'wandb.plots.named_entity', 'wandb.plots', 'wandb.plot.pr_curve', 'wandb.plot.roc_curve', 'wandb.plot.scatter', 'wandb.plot', 'wandb.sdk.internal.profiler', 'wandb.jupyter', 'wandb', 'pytorch_lightning.utilities.xla_device', 'pytorch_lightning.utilities.imports', 'pytorch_lightning.utilities.rank_zero', 'pytorch_lightning.utilities.warnings', 'pytorch_lightning.utilities.apply_func', 'pytorch_lightning.utilities.distributed', 'pytorch_lightning.utilities.enums', 'pytorch_lightning.utilities.grads', 'pytorch_lightning.utilities.parameter_tying', 'pytorch_lightning.utilities.parsing', 'pytorch_lightning.utilities', 'torchmetrics.__about__', 'torchmetrics.utilities.data', 'torchmetrics.utilities.distributed', 'torchmetrics.utilities.prints', 'torchmetrics.utilities', 'PIL.ImageColor', 'PIL._imagingft', 'PIL.ImageFont', 'PIL.ImageDraw', 'torchvision.utils', 'torchvision._internally_replaced_utils', 'torchvision.extension', 'torchvision.io._load_gpu_decoder', 'torchvision.io._video_opt', 'torchvision.io.image', 'torchvision.io.video', 'torchvision.io', 'torch.utils.model_zoo', 'torchvision.datasets.utils', 'torchvision.datasets.vision', 'torchvision.datasets._optical_flow', 'torchvision.datasets.caltech', 'torchvision.datasets.celeba', 'torchvision.datasets.cifar', 'torchvision.datasets.cityscapes', 'torchvision.datasets.clevr', 'torchvision.datasets.coco', 'torchvision.datasets.folder', 'torchvision.datasets.country211', 'torchvision.datasets.dtd', 'torchvision.datasets.eurosat', 'PIL.ImageOps', 'PIL.ImageFilter', 'PIL.ImageStat', 'PIL.ImageEnhance', 'torchvision.transforms.functional_pil', 'torchvision.transforms.functional_tensor', 'torchvision.transforms.functional', 'torchvision.transforms.transforms', 'torchvision.transforms.autoaugment', 'torchvision.transforms', 'torchvision.datasets.fakedata', 'torchvision.datasets.fer2013', 'torchvision.datasets.fgvc_aircraft', 'torchvision.datasets.flickr', 'torchvision.datasets.flowers102', 'torchvision.datasets.food101', 'torchvision.datasets.gtsrb', 'torchvision.datasets.video_utils', 'torchvision.datasets.hmdb51', 'torchvision.datasets.imagenet', 'torchvision.datasets.inaturalist', 'torchvision.datasets.kinetics', 'torchvision.datasets.kitti', 'torchvision.datasets.lfw', 'torchvision.datasets.lsun', 'torchvision.datasets.mnist', 'torchvision.datasets.omniglot', 'torchvision.datasets.oxford_iiit_pet', 'torchvision.datasets.pcam', 'torchvision.datasets.phototour', 'torchvision.datasets.places365', 'torchvision.datasets.rendered_sst2', 'torchvision.datasets.sbd', 'torchvision.datasets.sbu', 'torchvision.datasets.semeion', 'torchvision.datasets.stanford_cars', 'torchvision.datasets.stl10', 'torchvision.datasets.sun397', 'torchvision.datasets.svhn', 'torchvision.datasets.ucf101', 'torchvision.datasets.usps', 'torchvision.datasets.voc', 'torchvision.datasets.widerface', 'torchvision.datasets', 'torchvision.models.alexnet', 'torchvision.ops._register_onnx_ops', 'torchvision.ops._box_convert', 'torchvision.ops.boxes', 'torchvision.ops.deform_conv', 'torchvision.ops.feature_pyramid_network', 'torchvision.ops.focal_loss', 'torchvision.ops.giou_loss', 'torchvision.ops.misc', 'torch.fx._compatibility', 'torch.fx.immutable_collections', 'torch.fx.operator_schemas', 'torch.fx.node', 'torch.fx._pytree', 'torch.fx.graph', 'torch.fx.graph_module', 'torch.fx.proxy', 'torch.fx._symbolic_trace', 'torch.fx.interpreter', 'torch.fx.subgraph_rewriter', 'torch.fx', 'torchvision.ops._utils', 'torchvision.ops.roi_align', 'torchvision.ops.poolers', 'torchvision.ops.ps_roi_align', 'torchvision.ops.ps_roi_pool', 'torchvision.ops.roi_pool', 'torchvision.ops.stochastic_depth', 'torch.onnx.utils', 'torch.onnx.symbolic_helper', 'torch.onnx.symbolic_opset9', 'torch.onnx.symbolic_opset11', 'torch.onnx.symbolic_opset7', 'torch.onnx.symbolic_opset8', 'torch.onnx.symbolic_opset10', 'torch.onnx.symbolic_opset12', 'torch.onnx.symbolic_opset13', 'torch.onnx.symbolic_opset14', 'torch.onnx.symbolic_opset15', 'torch.onnx.symbolic_registry', 'torchvision.ops', 'torchvision.models.convnext', 'torchvision.models.resnet', 'torchvision.models.vgg', 'torchvision.models.squeezenet', 'torchvision.models.inception', 'torch.utils.checkpoint', 'torchvision.models.densenet', 'torchvision.models.googlenet', 'torchvision.models._utils', 'torchvision.models.mobilenetv2', 'torchvision.models.mobilenetv3', 'torchvision.models.mobilenet', 'torchvision.models.mnasnet', 'torchvision.models.shufflenetv2', 'torchvision.models.efficientnet', 'torchvision.models.regnet', 'torchvision.models.vision_transformer', 'torchvision.models.detection._utils', 'torchvision.models.detection.image_list', 'torchvision.models.detection.anchor_utils', 'torchvision.models.detection.backbone_utils', 'torchvision.models.detection.generalized_rcnn', 'torchvision.models.detection.roi_heads', 'torchvision.models.detection.rpn', 'torchvision.models.detection.transform', 'torchvision.models.detection.faster_rcnn', 'torchvision.models.detection.mask_rcnn', 'torchvision.models.detection.keypoint_rcnn', 'torchvision.models.detection.retinanet', 'torchvision.models.detection.ssd', 'torchvision.models.detection.ssdlite', 'torchvision.models.detection.fcos', 'torchvision.models.detection', 'torchvision.models.feature_extraction', 'torchvision.models.optical_flow._utils', 'torchvision.models.optical_flow.raft', 'torchvision.models.optical_flow', 'torchvision.models.quantization.utils', 'torchvision.models.quantization.mobilenetv2', 'torchvision.models.quantization.mobilenetv3', 'torchvision.models.quantization.mobilenet', 'torchvision.models.quantization.resnet', 'torchvision.models.quantization.googlenet', 'torchvision.models.quantization.inception', 'torchvision.models.quantization.shufflenetv2', 'torchvision.models.quantization', 'torchvision.models.segmentation._utils', 'torchvision.models.segmentation.fcn', 'torchvision.models.segmentation.deeplabv3', 'torchvision.models.segmentation.lraspp', 'torchvision.models.segmentation', 'torchvision.models.video.resnet', 'torchvision.models.video', 'torchvision.models', 'torchvision.version', 'torchvision', 'transformers.dependency_versions_table', 'transformers.utils.doc', 'importlib.metadata', 'transformers.utils.versions', 'transformers.utils.logging', 'transformers.utils.import_utils', 'transformers.utils.generic', 'filelock._error', 'filelock._api', 'filelock._util', 'filelock._soft', 'filelock._unix', 'filelock._windows', 'filelock.version', 'filelock', 'huggingface_hub.commands', 'huggingface_hub.constants', 'huggingface_hub.utils', 'huggingface_hub.utils.logging', 'huggingface_hub.utils._deprecation', 'huggingface_hub.utils._fixes', 'huggingface_hub.utils.endpoint_helpers', 'huggingface_hub.hf_api', 'huggingface_hub.commands.user', 'huggingface_hub.file_download', 'huggingface_hub.repocard_types', 'huggingface_hub.repocard', 'huggingface_hub.lfs', 'huggingface_hub.repository', 'huggingface_hub.hub_mixin', 'huggingface_hub.inference_api', 'huggingface_hub.snapshot_download', 'huggingface_hub.keras_mixin', 'huggingface_hub', 'transformers.utils.hub', 'transformers.utils', 'transformers.dependency_versions_check', 'transformers.utils.dummy_sentencepiece_objects', 'transformers.utils.dummy_sentencepiece_and_tokenizers_objects', 'transformers.utils.dummy_sentencepiece_and_speech_objects', 'transformers.utils.dummy_timm_objects', 'transformers.utils.dummy_scatter_objects', 'transformers.utils.dummy_tf_objects', 'transformers.utils.dummy_flax_objects', 'transformers', 'transformers.models.albert', 'transformers.models.auto', 'transformers.models.bart', 'transformers.models.barthez', 'transformers.models.bartpho', 'transformers.models.beit', 'transformers.models.bert', 'transformers.models.bert_generation', 'transformers.models.bert_japanese', 'transformers.models.bertweet', 'transformers.models.big_bird', 'transformers.models.bigbird_pegasus', 'transformers.models.blenderbot', 'transformers.models.blenderbot_small', 'transformers.models.bort', 'transformers.models.byt5', 'transformers.models.camembert', 'transformers.models.canine', 'transformers.models.clip', 'transformers.models.convbert', 'transformers.models.convnext', 'transformers.models.cpm', 'transformers.models.ctrl', 'transformers.models.data2vec', 'transformers.models.deberta', 'transformers.models.deberta_v2', 'transformers.models.decision_transformer', 'transformers.models.deit', 'transformers.models.detr', 'transformers.models.dialogpt', 'transformers.models.distilbert', 'transformers.models.dit', 'transformers.models.dpr', 'transformers.file_utils', 'transformers.models.dpt', 'transformers.models.electra', 'transformers.models.encoder_decoder', 'transformers.models.flaubert', 'transformers.models.fnet', 'transformers.models.fsmt', 'transformers.models.funnel', 'transformers.models.glpn', 'transformers.models.gpt2', 'transformers.models.gpt_neo', 'transformers.models.gptj', 'transformers.models.herbert', 'transformers.models.hubert', 'transformers.models.ibert', 'transformers.models.imagegpt', 'transformers.dynamic_module_utils', 'transformers.configuration_utils', 'tokenizers.tokenizers', 'tokenizers.models', 'tokenizers.normalizers', 'tokenizers.pre_tokenizers', 'tokenizers.processors', 'tokenizers.decoders', 'tokenizers.implementations.base_tokenizer', 'tokenizers.implementations.byte_level_bpe', 'tokenizers.implementations.char_level_bpe', 'tokenizers.implementations.sentencepiece_bpe', 'tokenizers.implementations.sentencepiece_unigram', 'tokenizers.implementations.bert_wordpiece', 'tokenizers.implementations', 'tokenizers', 'transformers.tokenization_utils_base', 'transformers.tokenization_utils', 'transformers.onnx', 'transformers.onnx.utils', 'transformers.onnx.config', 'transformers.models.bert.configuration_bert', 'transformers.models.layoutlm.configuration_layoutlm', 'transformers.models.bert.tokenization_bert', 'transformers.models.layoutlm.tokenization_layoutlm', 'transformers.models.layoutlm', 'transformers.models.layoutlmv2', 'transformers.models.layoutxlm', 'transformers.models.led', 'transformers.models.longformer', 'transformers.models.luke', 'transformers.models.lxmert', 'transformers.models.m2m_100', 'transformers.models.marian', 'transformers.models.maskformer', 'transformers.models.mbart', 'transformers.models.mbart50', 'transformers.models.megatron_bert', 'transformers.models.megatron_gpt2', 'transformers.models.mluke', 'transformers.models.mmbt', 'transformers.models.mobilebert', 'transformers.models.mpnet', 'transformers.models.t5', 'tokenizers.trainers', 'transformers.convert_slow_tokenizer', 'transformers.tokenization_utils_fast', 'transformers.models.t5.tokenization_t5_fast', 'transformers.models.mt5', 'transformers.models.nystromformer', 'transformers.models.openai', 'transformers.models.pegasus', 'transformers.models.perceiver', 'transformers.models.phobert', 'transformers.models.plbart', 'transformers.models.poolformer', 'transformers.models.prophetnet', 'transformers.models.qdqbert', 'transformers.models.rag', 'transformers.models.realm', 'transformers.models.reformer', 'transformers.models.rembert', 'transformers.models.resnet', 'transformers.models.retribert', 'transformers.models.roberta', 'transformers.models.roformer', 'transformers.models.segformer', 'transformers.models.sew', 'transformers.models.sew_d', 'transformers.models.speech_encoder_decoder', 'transformers.models.speech_to_text', 'transformers.models.speech_to_text_2', 'transformers.models.splinter', 'transformers.models.squeezebert', 'transformers.models.swin', 'transformers.models.tapas', 'transformers.models.transfo_xl', 'transformers.models.trocr', 'transformers.models.unispeech', 'transformers.models.unispeech_sat', 'transformers.models.van', 'transformers.models.vilt', 'transformers.models.vision_encoder_decoder', 'transformers.models.vision_text_dual_encoder', 'transformers.models.visual_bert', 'transformers.models.vit', 'transformers.models.vit_mae', 'transformers.models.wav2vec2', 'transformers.models.wav2vec2_phoneme', 'transformers.models.wav2vec2_with_lm', 'transformers.models.wavlm', 'transformers.models.xglm', 'transformers.models.xlm', 'transformers.models.xlm_prophetnet', 'transformers.models.xlm_roberta', 'transformers.models.xlm_roberta_xl', 'transformers.models.xlnet', 'transformers.models.yoso', 'transformers.models', 'torchmetrics.utilities.imports', 'torchmetrics.functional.audio.pit', 'torchmetrics.utilities.enums', 'torchmetrics.utilities.checks', 'torchmetrics.functional.audio.sdr', 'torchmetrics.functional.audio.snr', 'torchmetrics.functional.audio', 'torchmetrics.functional.classification.stat_scores', 'torchmetrics.functional.classification.accuracy', 'torchmetrics.functional.classification.auc', 'torchmetrics.functional.classification.precision_recall_curve', 'torchmetrics.functional.classification.roc', 'torchmetrics.functional.classification.auroc', 'torchmetrics.functional.classification.average_precision', 'torchmetrics.functional.classification.calibration_error', 'torchmetrics.functional.classification.confusion_matrix', 'torchmetrics.functional.classification.cohen_kappa', 'torchmetrics.functional.classification.dice', 'torchmetrics.functional.classification.f_beta', 'torchmetrics.functional.classification.hamming', 'torchmetrics.functional.classification.hinge', 'torchmetrics.functional.classification.jaccard', 'torchmetrics.functional.classification.kl_divergence', 'torchmetrics.functional.classification.matthews_corrcoef', 'torchmetrics.functional.classification.precision_recall', 'torchmetrics.functional.classification.ranking', 'torchmetrics.functional.classification.specificity', 'torchmetrics.functional.classification', 'torchmetrics.functional.image.helper', 'torchmetrics.functional.image.uqi', 'torchmetrics.functional.image.d_lambda', 'torchmetrics.functional.image.ergas', 'torchmetrics.functional.image.gradients', 'torchmetrics.functional.image.psnr', 'torchmetrics.functional.image.sam', 'torchmetrics.functional.image.ssim', 'torchmetrics.functional.image', 'torchmetrics.functional.pairwise.helpers', 'torchmetrics.functional.pairwise.cosine', 'torchmetrics.functional.pairwise.euclidean', 'torchmetrics.functional.pairwise.linear', 'torchmetrics.functional.pairwise.manhattan', 'torchmetrics.functional.pairwise', 'torchmetrics.functional.regression.cosine_similarity', 'torchmetrics.functional.regression.explained_variance', 'torchmetrics.functional.regression.log_mse', 'torchmetrics.functional.regression.mae', 'torchmetrics.functional.regression.mape', 'torchmetrics.functional.regression.mse', 'torchmetrics.functional.regression.pearson', 'torchmetrics.functional.regression.r2', 'torchmetrics.functional.regression.spearman', 'torchmetrics.functional.regression.tweedie_deviance', 'torchmetrics.functional.regression.wmape', 'torchmetrics.functional.regression', 'torchmetrics.functional.regression.symmetric_mape', 'torchmetrics.functional.retrieval.average_precision', 'torchmetrics.functional.retrieval.fall_out', 'torchmetrics.functional.retrieval.hit_rate', 'torchmetrics.functional.retrieval.ndcg', 'torchmetrics.functional.retrieval.precision', 'torchmetrics.functional.retrieval.r_precision', 'torchmetrics.functional.retrieval.recall', 'torchmetrics.functional.retrieval.reciprocal_rank', 'torchmetrics.functional.retrieval', 'torchmetrics.functional.text.bleu', 'torchmetrics.functional.text.helper', 'torchmetrics.functional.text.cer', 'torchmetrics.functional.text.chrf', 'torchmetrics.functional.text.eed', 'torchmetrics.functional.text.mer', 'regex._regex', 'regex._regex_core', 'regex.regex', 'regex', 'torchmetrics.functional.text.sacre_bleu', 'torchmetrics.functional.text.squad', 'torchmetrics.functional.text.ter', 'torchmetrics.functional.text.wer', 'torchmetrics.functional.text.wil', 'torchmetrics.functional.text.wip', 'transformers.models.auto.configuration_auto', 'transformers.models.auto.auto_factory', 'transformers.models.auto.modeling_auto', 'transformers.models.encoder_decoder.configuration_encoder_decoder', 'transformers.models.auto.tokenization_auto', 'torchmetrics.functional.text.bert', 'torchmetrics.functional.text.rouge', 'torchmetrics.functional.text', 'torchmetrics.functional', 'torchmetrics.utilities.exceptions', 'torchmetrics.metric', 'torchmetrics.aggregation', 'torchmetrics.audio.pit', 'torchmetrics.audio.sdr', 'torchmetrics.audio.snr', 'torchmetrics.audio', 'torchmetrics.classification.stat_scores', 'torchmetrics.classification.accuracy', 'torchmetrics.classification.auc', 'torchmetrics.classification.auroc', 'torchmetrics.classification.avg_precision', 'torchmetrics.classification.binned_precision_recall', 'torchmetrics.classification.calibration_error', 'torchmetrics.classification.cohen_kappa', 'torchmetrics.classification.confusion_matrix', 'torchmetrics.classification.f_beta', 'torchmetrics.classification.hamming', 'torchmetrics.classification.hinge', 'torchmetrics.classification.jaccard', 'torchmetrics.classification.kl_divergence', 'torchmetrics.classification.matthews_corrcoef', 'torchmetrics.classification.precision_recall', 'torchmetrics.classification.precision_recall_curve', 'torchmetrics.classification.ranking', 'torchmetrics.classification.roc', 'torchmetrics.classification.specificity', 'torchmetrics.classification', 'torchmetrics.collections', 'torchmetrics.image.d_lambda', 'torchmetrics.image.ergas', 'torchmetrics.image.psnr', 'torchmetrics.image.sam', 'torchmetrics.image.ssim', 'torchmetrics.image.uqi', 'torchmetrics.image', 'torchmetrics.regression.cosine_similarity', 'torchmetrics.regression.explained_variance', 'torchmetrics.regression.log_mse', 'torchmetrics.regression.mae', 'torchmetrics.regression.mape', 'torchmetrics.regression.mse', 'torchmetrics.regression.pearson', 'torchmetrics.regression.r2', 'torchmetrics.regression.spearman', 'torchmetrics.regression.symmetric_mape', 'torchmetrics.regression.tweedie_deviance', 'torchmetrics.regression.wmape', 'torchmetrics.regression', 'torchmetrics.retrieval.base', 'torchmetrics.retrieval.average_precision', 'torchmetrics.retrieval.fall_out', 'torchmetrics.retrieval.hit_rate', 'torchmetrics.retrieval.ndcg', 'torchmetrics.retrieval.precision', 'torchmetrics.retrieval.r_precision', 'torchmetrics.retrieval.recall', 'torchmetrics.retrieval.reciprocal_rank', 'torchmetrics.retrieval', 'torchmetrics.text.bleu', 'torchmetrics.text.cer', 'torchmetrics.text.chrf', 'torchmetrics.text.eed', 'torchmetrics.text.mer', 'torchmetrics.text.sacre_bleu', 'torchmetrics.text.squad', 'torchmetrics.text.ter', 'torchmetrics.text.wer', 'torchmetrics.text.wil', 'torchmetrics.text.wip', 'torchmetrics.text.bert', 'torchmetrics.text.rouge', 'torchmetrics.text', 'torchmetrics.wrappers.bootstrapping', 'torchmetrics.wrappers.classwise', 'torchmetrics.wrappers.minmax', 'torchmetrics.wrappers.multioutput', 'torchmetrics.wrappers.tracker', 'torchmetrics.wrappers', 'torchmetrics', 'pytorch_lightning.utilities.types', 'pytorch_lightning.callbacks.base', 'pytorch_lightning.callbacks.device_stats_monitor', 'pytorch_lightning.callbacks.early_stopping', 'pytorch_lightning.callbacks.finetuning', 'pytorch_lightning.callbacks.gpu_stats_monitor', 'pytorch_lightning.callbacks.gradient_accumulation_scheduler', 'pytorch_lightning.callbacks.lambda_function', 'pytorch_lightning.callbacks.lr_monitor', 'fsspec._version', 'fsspec.caching', 'fsspec.callbacks', 'fsspec.utils', 'fsspec.config', 'fsspec.dircache', 'fsspec.transaction', 'fsspec.spec', 'fsspec.compression', 'fsspec.registry', 'fsspec.core', 'fsspec.exceptions', 'fsspec.mapping', 'fsspec', 'fsspec.implementations', 'fsspec.implementations.local', 'pytorch_lightning.utilities.cloud_io', 'pytorch_lightning.utilities.logger', 'pytorch_lightning.callbacks.model_checkpoint', 'pytorch_lightning.utilities.model_summary', 'pytorch_lightning.callbacks.model_summary', 'pytorch_lightning.callbacks.prediction_writer', 'pytorch_lightning.callbacks.progress.base', 'pytorch_lightning.callbacks.progress.tqdm_progress', 'pytorch_lightning.callbacks.progress.progress', 'pytorch_lightning.callbacks.progress.rich_progress', 'pytorch_lightning.callbacks.progress', 'torch.nn.utils.prune', 'pytorch_lightning.core.hooks', 'pytorch_lightning.core.mixins.device_dtype_mixin', 'pytorch_lightning.utilities.argparse', 'pytorch_lightning.utilities.migration', 'pytorch_lightning.core.saving', 'pytorch_lightning.core.mixins.hparams_mixin', 'pytorch_lightning.core.mixins', 'pytorch_lightning.core.datamodule', 'pytorch_lightning.utilities.model_helpers', 'pytorch_lightning.core.optimizer', 'pytorch_lightning.loggers.base', 'pytorch_lightning.loggers.csv_logs', 'tensorboard.lazy', 'tensorboard.version', 'tensorboard', 'distutils.version', 'tensorboard.compat', 'tensorboard.compat.proto', 'tensorboard.compat.proto.tensor_shape_pb2', 'tensorboard.compat.proto.types_pb2', 'tensorboard.compat.proto.resource_handle_pb2', 'tensorboard.compat.proto.tensor_pb2', 'tensorboard.compat.proto.summary_pb2', 'tensorboard.compat.proto.event_pb2', 'tensorboard.plugins', 'encodings.raw_unicode_escape', 'encodings.unicode_escape', 'google.protobuf.internal.containers', 'google.protobuf.internal.wire_format', 'google.protobuf.internal.encoder', 'google.protobuf.internal.decoder', 'google.protobuf.internal.type_checkers', 'google.protobuf.text_format', 'tensorboard.plugins.projector.metadata', 'tensorboard.plugins.projector.projector_config_pb2', 'tensorboard.plugins.projector', 'tensorboard.plugins.audio', 'tensorboard.util', 'tensorboard.util.op_evaluator', 'tensorboard.util.encoder', 'tensorboard.plugins.audio.plugin_data_pb2', 'tensorboard.plugins.audio.metadata', 'tensorboard.util.lazy_tensor_creator', 'tensorboard.plugins.audio.summary_v2', 'tensorboard.plugins.audio.summary', 'tensorboard.plugins.custom_scalar', 'tensorboard.plugins.custom_scalar.layout_pb2', 'tensorboard.plugins.custom_scalar.metadata', 'tensorboard.plugins.custom_scalar.summary', 'tensorboard.plugins.histogram', 'tensorboard.plugins.histogram.plugin_data_pb2', 'tensorboard.plugins.histogram.metadata', 'tensorboard.compat.proto.cost_graph_pb2', 'tensorboard.compat.proto.attr_value_pb2', 'tensorboard.compat.proto.full_type_pb2', 'tensorboard.compat.proto.node_def_pb2', 'tensorboard.compat.proto.op_def_pb2', 'tensorboard.compat.proto.function_pb2', 'tensorboard.compat.proto.versions_pb2', 'tensorboard.compat.proto.graph_pb2', 'tensorboard.compat.proto.allocation_description_pb2', 'tensorboard.compat.proto.tensor_description_pb2', 'tensorboard.compat.proto.step_stats_pb2', 'tensorboard.compat.proto.cluster_pb2', 'tensorboard.compat.proto.coordination_config_pb2', 'tensorboard.compat.proto.debug_pb2', 'tensorboard.compat.proto.verifier_config_pb2', 'tensorboard.compat.proto.rewriter_config_pb2', 'tensorboard.compat.proto.config_pb2', 'google.protobuf.any_pb2', 'tensorboard.compat.proto.variable_pb2', 'tensorboard.compat.proto.struct_pb2', 'google.protobuf.wrappers_pb2', 'tensorboard.compat.proto.trackable_object_graph_pb2', 'tensorboard.compat.proto.saved_object_graph_pb2', 'tensorboard.compat.proto.saver_pb2', 'tensorboard.compat.proto.meta_graph_pb2', 'tensorboard.compat.tensorflow_stub.error_codes', 'tensorboard.compat.tensorflow_stub.errors', 'tensorboard.compat.tensorflow_stub.compat.v1', 'tensorboard.compat.tensorflow_stub.compat', 'tensorboard.compat.tensorflow_stub.io.gfile', 'tensorboard.compat.tensorflow_stub.io', 'tensorboard.compat.tensorflow_stub.pywrap_tensorflow', 'tensorboard.compat.tensorflow_stub.dtypes', 'absl', 'absl.flags._helpers', 'absl.flags._argument_parser', 'absl.flags._exceptions', 'absl._collections_abc', 'absl.flags._flag', 'absl.flags._validators_classes', 'absl.flags._flagvalues', 'absl.flags._validators', 'absl.flags._defines', 'absl.flags', 'tensorboard.compat.tensorflow_stub.flags', 'tensorboard.compat.tensorflow_stub.app', 'tensorboard.compat.tensorflow_stub.tensor_shape', 'tensorboard.compat.tensorflow_stub', 'tensorboard.util.tensor_util', 'tensorboard.plugins.histogram.summary_v2', 'tensorboard.plugins.histogram.summary', 'tensorboard.plugins.image', 'tensorboard.plugins.image.plugin_data_pb2', 'tensorboard.plugins.image.metadata', 'tensorboard.plugins.image.summary_v2', 'tensorboard.plugins.image.summary', 'tensorboard.plugins.pr_curve', 'tensorboard.plugins.pr_curve.plugin_data_pb2', 'tensorboard.plugins.pr_curve.metadata', 'tensorboard.plugins.pr_curve.summary', 'tensorboard.plugins.scalar', 'tensorboard.plugins.scalar.plugin_data_pb2', 'tensorboard.plugins.scalar.metadata', 'tensorboard.plugins.scalar.summary_v2', 'tensorboard.plugins.scalar.summary', 'tensorboard.plugins.text', 'tensorboard.plugins.text.plugin_data_pb2', 'tensorboard.plugins.text.metadata', 'tensorboard.plugins.text.summary_v2', 'tensorboard.plugins.text.summary', 'tensorboard.summary.v1', 'tensorboard.summary.v2', 'tensorboard.summary.writer', 'tensorboard.summary.writer.record_writer', 'tensorboard.summary.writer.event_file_writer', 'tensorboard.summary._output', 'tensorboard.summary._writer', 'tensorboard.summary', 'torch.utils.tensorboard._convert_np', 'torch.utils.tensorboard._utils', 'torch.utils.tensorboard._embedding', 'torch.utils.tensorboard._onnx_graph', 'torch.utils.tensorboard._proto_graph', 'torch.utils.tensorboard._pytorch_graph', 'google.protobuf.struct_pb2', 'torch.utils.tensorboard.summary', 'torch.utils.tensorboard.writer', 'torch.utils.tensorboard', 'pytorch_lightning.loggers.tensorboard', 'pytorch_lightning.loggers.comet', 'pytorch_lightning.loggers.mlflow', 'pytorch_lightning.loggers.neptune', 'pytorch_lightning.loggers.test_tube', 'wandb.wandb_run', 'pytorch_lightning.loggers.wandb', 'pytorch_lightning.loggers', 'pytorch_lightning.accelerators.accelerator', 'pytorch_lightning.plugins.environments.cluster_environment', 'pytorch_lightning.plugins.environments.bagua_environment', 'pytorch_lightning.plugins.environments.kubeflow_environment', 'pytorch_lightning.plugins.environments.lightning_environment', 'pytorch_lightning.plugins.environments.lsf_environment', 'pytorch_lightning.plugins.environments.slurm_environment', 'pytorch_lightning.plugins.environments.torchelastic_environment', 'pytorch_lightning.plugins.environments', 'pytorch_lightning.plugins.io.checkpoint_plugin', 'pytorch_lightning.plugins.io.torch_plugin', 'pytorch_lightning.plugins.io.hpu_plugin', 'pytorch_lightning.plugins.io.xla_plugin', 'pytorch_lightning.plugins.io', 'pytorch_lightning.plugins.layer_sync', 'pytorch_lightning.plugins.precision.precision_plugin', 'pytorch_lightning.plugins.precision.mixed', 'pytorch_lightning.plugins.precision.apex_amp', 'pytorch_lightning.plugins.precision.deepspeed', 'pytorch_lightning.overrides.base', 'pytorch_lightning.overrides.data_parallel', 'pytorch_lightning.overrides.distributed', 'pytorch_lightning.overrides', 'pytorch_lightning.plugins.precision.double', 'pytorch_lightning.plugins.precision.native_amp', 'pytorch_lightning.plugins.precision.sharded_native_amp', 'pytorch_lightning.plugins.precision.fully_sharded_native_amp', 'pytorch_lightning.plugins.precision.hpu', 'pytorch_lightning.plugins.precision.ipu', 'pytorch_lightning.plugins.precision.tpu', 'pytorch_lightning.plugins.precision.tpu_bf16', 'pytorch_lightning.plugins.precision', 'pytorch_lightning.strategies.launchers.base', 'multiprocessing.queues', 'pytorch_lightning.trainer.states', 'pytorch_lightning.utilities.optimizer', 'pytorch_lightning.strategies.strategy', 'pytorch_lightning.strategies.launchers.spawn', 'pytorch_lightning.strategies.launchers.subprocess_script', 'pytorch_lightning.strategies.launchers.xla_spawn', 'pytorch_lightning.strategies.launchers', 'pytorch_lightning.strategies.parallel', 'pytorch_lightning.utilities.seed', 'torch.distributed.algorithms.model_averaging', 'torch.distributed.algorithms.model_averaging.utils', 'torch.distributed.algorithms.model_averaging.averagers', 'pytorch_lightning.strategies.ddp', 'pytorch_lightning.strategies.bagua', 'pytorch_lightning.strategies.ddp2', 'pytorch_lightning.strategies.ddp_spawn', 'pytorch_lightning.strategies.deepspeed', 'pytorch_lightning.strategies.dp', 'pytorch_lightning.strategies.fully_sharded', 'pytorch_lightning.strategies.horovod', 'pytorch_lightning.overrides.torch_distributed', 'pytorch_lightning.strategies.hpu_parallel', 'pytorch_lightning.utilities.auto_restart', 'pytorch_lightning.utilities.data', 'pytorch_lightning.strategies.ipu', 'pytorch_lightning.strategies.sharded', 'pytorch_lightning.strategies.sharded_spawn', 'pytorch_lightning.strategies.single_device', 'pytorch_lightning.strategies.single_hpu', 'pytorch_lightning.strategies.single_tpu', 'pytorch_lightning.utilities.registry', 'pytorch_lightning.strategies.strategy_registry', 'pytorch_lightning.trainer.connectors', 'pytorch_lightning.accelerators.ipu', 'pytorch_lightning.trainer.supporters', 'pytorch_lightning.trainer.connectors.data_connector', 'pytorch_lightning.strategies.tpu_spawn', 'pytorch_lightning.strategies', 'pytorch_lightning.plugins.training_type.ddp', 'pytorch_lightning.plugins.training_type.ddp2', 'pytorch_lightning.plugins.training_type.ddp_spawn', 'pytorch_lightning.plugins.training_type.deepspeed', 'pytorch_lightning.plugins.training_type.dp', 'pytorch_lightning.plugins.training_type.fully_sharded', 'pytorch_lightning.plugins.training_type.horovod', 'pytorch_lightning.plugins.training_type.ipu', 'pytorch_lightning.plugins.training_type.parallel', 'pytorch_lightning.plugins.training_type.sharded', 'pytorch_lightning.plugins.training_type.sharded_spawn', 'pytorch_lightning.plugins.training_type.single_device', 'pytorch_lightning.plugins.training_type.single_tpu', 'pytorch_lightning.plugins.training_type.tpu_spawn', 'pytorch_lightning.plugins.training_type.training_type_plugin', 'pytorch_lightning.plugins.training_type', 'pytorch_lightning.plugins', 'pytorch_lightning.tuner', 'pytorch_lightning.tuner.auto_gpu_select', 'pytorch_lightning.utilities.device_parser', 'pytorch_lightning.accelerators.cpu', 'pytorch_lightning.accelerators.gpu', 'pytorch_lightning.accelerators.hpu', 'pytorch_lightning.accelerators.registry', 'pytorch_lightning.accelerators.tpu', 'pytorch_lightning.accelerators', 'deprecate.deprecation', 'deprecate.utils', 'deprecate', 'pytorch_lightning.utilities.memory', 'pytorch_lightning.utilities.metrics', 'pytorch_lightning.trainer.connectors.logger_connector.result', 'pytorch_lightning.trainer.connectors.logger_connector.logger_connector', 'pytorch_lightning.trainer.connectors.logger_connector', 'pytorch_lightning.trainer.progress', 'pytorch_lightning.loops.base', 'pytorch_lightning.loops.optimization.closure', 'pytorch_lightning.utilities.signature_utils', 'pytorch_lightning.loops.utilities', 'pytorch_lightning.loops.optimization.manual_loop', 'pytorch_lightning.utilities.finite_checks', 'pytorch_lightning.loops.optimization.optimizer_loop', 'pytorch_lightning.loops.optimization', 'pytorch_lightning.loops.batch.training_batch_loop', 'pytorch_lightning.loops.batch', 'pytorch_lightning.loops.dataloader.dataloader_loop', 'pytorch_lightning.utilities.fetching', 'pytorch_lightning.loops.epoch.evaluation_epoch_loop', 'pytorch_lightning.loops.epoch.prediction_epoch_loop', 'pytorch_lightning.loops.epoch.training_epoch_loop', 'pytorch_lightning.loops.epoch', 'pytorch_lightning.loops.dataloader.evaluation_loop', 'pytorch_lightning.loops.dataloader.prediction_loop', 'pytorch_lightning.loops.dataloader', 'pytorch_lightning.loops.fit_loop', 'pytorch_lightning.loops', 'pytorch_lightning.profiler.profiler', 'pytorch_lightning.profiler.advanced', 'pytorch_lightning.profiler.base', 'pytorch_lightning.profiler.pytorch', 'pytorch_lightning.profiler.simple', 'pytorch_lightning.profiler.xla', 'pytorch_lightning.profiler', 'pytorch_lightning.trainer.callback_hook', 'pytorch_lightning.trainer.configuration_validator', 'pytorch_lightning.trainer.connectors.accelerator_connector', 'pytorch_lightning.callbacks.rich_model_summary', 'pytorch_lightning.callbacks.timer', 'pytorch_lightning.trainer.connectors.callback_connector', 'pytorch_lightning.utilities.upgrade_checkpoint', 'pytorch_lightning.trainer.connectors.checkpoint_connector', 'pytorch_lightning.trainer.connectors.signal_connector', 'pytorch_lightning.trainer.data_loading', 'pytorch_lightning.trainer.optimizers', 'pytorch_lightning.tuner.lr_finder', 'pytorch_lightning.tuner.batch_size_scaling', 'pytorch_lightning.tuner.tuning', 'pytorch_lightning.utilities.meta', 'pytorch_lightning.trainer.trainer', 'pytorch_lightning.trainer', 'pytorch_lightning.trainer.connectors.logger_connector.fx_validator', 'pytorch_lightning.core.lightning', 'pytorch_lightning.core', 'pytorch_lightning.callbacks.pruning', 'pytorch_lightning.callbacks.quantization', 'pytorch_lightning.callbacks.stochastic_weight_avg', 'pytorch_lightning.callbacks.xla_stats_monitor', 'pytorch_lightning.callbacks', 'pytorch_lightning', 'teach', 'teach.dataset', 'teach.meta_data_files', 'teach.dataset.pose', 'teach.dataset.initialization', 'teach.dataset.actions', 'teach.dataset.interaction', 'teach.dataset.episode', 'teach.dataset.task', '_cython_0_29_26', 'pydantic.typing', 'pydantic.errors', 'pydantic.version', 'pydantic.utils', 'pydantic.class_validators', 'pydantic.color', 'pydantic.datetime_parse', 'pydantic.validators', 'pydantic.networks', 'pydantic.types', 'pydantic.json', 'pydantic.error_wrappers', 'pydantic.fields', 'pydantic.config', 'pydantic.parse', 'pydantic.schema', 'pydantic.main', 'pydantic.dataclasses', 'pydantic.annotated_types', 'pydantic.decorator', 'pydantic.env_settings', 'pydantic.tools', 'pydantic', 'teach.settings', 'teach.logger', 'teach.dataset.task_THOR', 'teach.meta_data_files.task_definitions', 'teach.dataset.definitions', 'teach.inference', 'teach.inference.actions', 'teach.modeling', 'teach.modeling.ET', 'teach.modeling.ET.alfred', 'teach.modeling.ET.alfred.nn', 'teach.modeling.ET.alfred.nn.transforms', 'teach.modeling.toast', 'teach.modeling.toast.utils', 'NaiveDataModule', 'matplotlib', 'matplotlib._api.deprecation', 'matplotlib._api', 'matplotlib._version', 'matplotlib._c_internal_utils', 'matplotlib.cbook', 'matplotlib.docstring', 'PIL.ImageChops', 'PIL.ImageFile', 'PIL.GimpGradientFile', 'PIL.GimpPaletteFile', 'PIL.PaletteFile', 'PIL.ImagePalette', 'PIL.ImageSequence', 'PIL.PngImagePlugin', 'matplotlib._path', 'matplotlib.bezier', 'matplotlib.path', 'matplotlib.transforms', 'matplotlib.ticker', 'matplotlib.scale', 'matplotlib._color_data', 'matplotlib.colors', 'pyparsing.util', 'pyparsing.unicode', 'pyparsing.exceptions', 'pyparsing.actions', 'pyparsing.results', 'pyparsing.core', 'pyparsing.helpers', 'pyparsing.testing', 'pyparsing.common', 'pyparsing', 'matplotlib.fontconfig_pattern', 'matplotlib._enums', 'cycler', 'matplotlib.rcsetup', 'matplotlib.ft2font', 'kiwisolver._cext', 'kiwisolver']\n"
     ]
    },
    {
     "name": "stderr",
     "output_type": "stream",
     "text": [
      "DEBUG:matplotlib:CACHEDIR=C:\\Users\\Pablo\\.matplotlib\n",
      "DEBUG:matplotlib.font_manager:Using fontManager instance from C:\\Users\\Pablo\\.matplotlib\\fontlist-v330.json\n"
     ]
    }
   ],
   "source": [
    "from NaiveDataModule import NaiveDataModule, NaiveTEACHDataset\n",
    "import os\n",
    "os.environ[\"KMP_DUPLICATE_LIB_OK\"]=\"TRUE\"\n",
    "from itertools import chain\n",
    "from collections import Counter\n",
    "from tqdm import tqdm\n",
    "import matplotlib.pyplot as plt"
   ]
  },
  {
   "cell_type": "code",
   "execution_count": 9,
   "id": "f37f1b33",
   "metadata": {},
   "outputs": [],
   "source": [
    "parent_dir_path = \"E:\"\n",
    "data_parent_dir_path = os.path.join(parent_dir_path, 'teach-dataset')\n",
    "w2v_path = os.path.join(parent_dir_path, 'GoogleNews-vectors-negative300.bin.gz')"
   ]
  },
  {
   "cell_type": "markdown",
   "id": "4bdb33f0",
   "metadata": {},
   "source": [
    "## Plot actions Distribution on EDH"
   ]
  },
  {
   "cell_type": "code",
   "execution_count": 10,
   "id": "1e177d6e",
   "metadata": {},
   "outputs": [],
   "source": [
    "naive_datamodule = NaiveDataModule(\n",
    "    data_parent_dir_path, \n",
    "    w2v_path, \n",
    "    16, \n",
    "    x_text_pad_length=1024, \n",
    "    use_small_dataset=False,\n",
    "    num_workers=4,\n",
    "    include_x_cur_image=False,\n",
    "    include_x_prev_actions=False\n",
    ")"
   ]
  },
  {
   "cell_type": "code",
   "execution_count": 11,
   "id": "51499f74",
   "metadata": {},
   "outputs": [
    {
     "name": "stdout",
     "output_type": "stream",
     "text": [
      "[MainThread-10268-INFO] NaiveDataModule: Loading dataset for stage train\n"
     ]
    },
    {
     "name": "stderr",
     "output_type": "stream",
     "text": [
      "INFO:NaiveDataModule:Loading dataset for stage train\n",
      "INFO:gensim.models.keyedvectors:loading projection weights from E:GoogleNews-vectors-negative300.bin.gz\n",
      "DEBUG:smart_open.smart_open_lib:{'uri': 'E:GoogleNews-vectors-negative300.bin.gz', 'mode': 'rb', 'buffering': -1, 'encoding': None, 'errors': None, 'newline': None, 'closefd': True, 'opener': None, 'compression': 'infer_from_extension', 'transport_params': None}\n",
      "DEBUG:gensim.utils:starting a new internal lifecycle event log for KeyedVectors\n",
      "INFO:gensim.utils:KeyedVectors lifecycle event {'msg': 'loaded (100000, 300) matrix of type float32 from E:GoogleNews-vectors-negative300.bin.gz', 'binary': True, 'encoding': 'utf8', 'datetime': '2022-05-04T22:49:06.058734', 'gensim': '4.1.2', 'python': '3.8.13 (default, Mar 28 2022, 06:59:08) [MSC v.1916 64 bit (AMD64)]', 'platform': 'Windows-10-10.0.22000-SP0', 'event': 'load_word2vec_format'}\n",
      "100%|████████████████████████████████████████████████████████████████████████████████████████████████████████████████████████████████████████████████████████████████████████████████████████████████████████████████████████████████████████████████████████████████████████████████████████████████████████████████████████| 5476/5476 [00:23<00:00, 232.14it/s]\n"
     ]
    }
   ],
   "source": [
    "naive_datamodule.setup(\"train\")"
   ]
  },
  {
   "cell_type": "code",
   "execution_count": 12,
   "id": "a0cfc1c2",
   "metadata": {},
   "outputs": [
    {
     "name": "stdout",
     "output_type": "stream",
     "text": [
      "[MainThread-10268-INFO] NaiveDataModule: Loading dataset for stage val\n"
     ]
    },
    {
     "name": "stderr",
     "output_type": "stream",
     "text": [
      "INFO:NaiveDataModule:Loading dataset for stage val\n",
      "INFO:gensim.models.keyedvectors:loading projection weights from E:GoogleNews-vectors-negative300.bin.gz\n",
      "DEBUG:smart_open.smart_open_lib:{'uri': 'E:GoogleNews-vectors-negative300.bin.gz', 'mode': 'rb', 'buffering': -1, 'encoding': None, 'errors': None, 'newline': None, 'closefd': True, 'opener': None, 'compression': 'infer_from_extension', 'transport_params': None}\n",
      "DEBUG:gensim.utils:starting a new internal lifecycle event log for KeyedVectors\n",
      "INFO:gensim.utils:KeyedVectors lifecycle event {'msg': 'loaded (100000, 300) matrix of type float32 from E:GoogleNews-vectors-negative300.bin.gz', 'binary': True, 'encoding': 'utf8', 'datetime': '2022-05-04T22:49:30.545603', 'gensim': '4.1.2', 'python': '3.8.13 (default, Mar 28 2022, 06:59:08) [MSC v.1916 64 bit (AMD64)]', 'platform': 'Windows-10-10.0.22000-SP0', 'event': 'load_word2vec_format'}\n",
      "100%|██████████████████████████████████████████████████████████████████████████████████████████████████████████████████████████████████████████████████████████████████████████████████████████████████████████████████████████████████████████████████████████████████████████████████████████████████████████████████████████| 608/608 [00:02<00:00, 230.31it/s]\n"
     ]
    }
   ],
   "source": [
    "naive_datamodule.setup(\"val\")"
   ]
  },
  {
   "cell_type": "code",
   "execution_count": 13,
   "id": "1f5c8bf9",
   "metadata": {},
   "outputs": [
    {
     "name": "stdout",
     "output_type": "stream",
     "text": [
      "[MainThread-10268-INFO] NaiveDataModule: Loading dataset for stage val_unseen\n"
     ]
    },
    {
     "name": "stderr",
     "output_type": "stream",
     "text": [
      "INFO:NaiveDataModule:Loading dataset for stage val_unseen\n",
      "INFO:gensim.models.keyedvectors:loading projection weights from E:GoogleNews-vectors-negative300.bin.gz\n",
      "DEBUG:smart_open.smart_open_lib:{'uri': 'E:GoogleNews-vectors-negative300.bin.gz', 'mode': 'rb', 'buffering': -1, 'encoding': None, 'errors': None, 'newline': None, 'closefd': True, 'opener': None, 'compression': 'infer_from_extension', 'transport_params': None}\n",
      "DEBUG:gensim.utils:starting a new internal lifecycle event log for KeyedVectors\n",
      "INFO:gensim.utils:KeyedVectors lifecycle event {'msg': 'loaded (100000, 300) matrix of type float32 from E:GoogleNews-vectors-negative300.bin.gz', 'binary': True, 'encoding': 'utf8', 'datetime': '2022-05-04T22:49:34.080578', 'gensim': '4.1.2', 'python': '3.8.13 (default, Mar 28 2022, 06:59:08) [MSC v.1916 64 bit (AMD64)]', 'platform': 'Windows-10-10.0.22000-SP0', 'event': 'load_word2vec_format'}\n",
      "100%|████████████████████████████████████████████████████████████████████████████████████████████████████████████████████████████████████████████████████████████████████████████████████████████████████████████████████████████████████████████████████████████████████████████████████████████████████████████████████████| 2149/2149 [00:09<00:00, 232.06it/s]\n"
     ]
    }
   ],
   "source": [
    "naive_datamodule.setup(\"val_unseen\")"
   ]
  },
  {
   "cell_type": "code",
   "execution_count": 14,
   "id": "244a42a5",
   "metadata": {},
   "outputs": [],
   "source": [
    "all_agent_actions = [\n",
    "    \"Stop\",\"Forward\",\"Backward\",\"Turn Left\",\"Turn Right\",\"Look Up\",\"Look Down\",\"Pan Left\",\"Pan Right\",\"Pickup\",\"Place\",\n",
    "    \"Open\",\"Close\",\"ToggleOn\",\"ToggleOff\",\"Slice\", \"Pour\"\n",
    "]\n",
    "navigation_actions = set([\"Forward\",\"Backward\",\"Turn Left\",\"Turn Right\",\"Look Up\",\"Look Down\",\"Pan Left\",\"Pan Right\"])\n",
    "interaction_actions = set([\"Pickup\",\"Place\",\"Open\",\"Close\",\"ToggleOn\",\"ToggleOff\",\"Slice\", \"Pour\"])"
   ]
  },
  {
   "cell_type": "code",
   "execution_count": 15,
   "id": "f6372bd7",
   "metadata": {},
   "outputs": [],
   "source": [
    "def action_one_hot_to_name(onehot_tensor):\n",
    "    return all_agent_actions[onehot_tensor.argmax()]"
   ]
  },
  {
   "cell_type": "code",
   "execution_count": 16,
   "id": "c3c33fbc",
   "metadata": {},
   "outputs": [],
   "source": [
    "action_counts = Counter()\n",
    "navigation_actions_count = Counter()\n",
    "interaction_actions_count = Counter()"
   ]
  },
  {
   "cell_type": "code",
   "execution_count": 17,
   "id": "17d2eda7",
   "metadata": {},
   "outputs": [],
   "source": [
    "naive_dls = [\n",
    "    iter(naive_datamodule.train_dataloader()), \n",
    "    iter(naive_datamodule.val_dataloader()),\n",
    "    iter(naive_datamodule.val_unseen_dataloader())\n",
    "]"
   ]
  },
  {
   "cell_type": "code",
   "execution_count": 18,
   "id": "05d3c909",
   "metadata": {},
   "outputs": [
    {
     "name": "stderr",
     "output_type": "stream",
     "text": [
      "37204it [01:16, 485.24it/s]\n"
     ]
    }
   ],
   "source": [
    "for _, batched_y in tqdm(chain(*naive_dls)):\n",
    "    for i in range(batched_y.size(0)):\n",
    "        action_name = action_one_hot_to_name(batched_y[i])\n",
    "        action_counts[action_name] += 1\n",
    "        if action_name in navigation_actions:\n",
    "            navigation_actions_count[action_name] += 1\n",
    "        if action_name in interaction_actions:\n",
    "            interaction_actions_count[action_name] += 1"
   ]
  },
  {
   "cell_type": "code",
   "execution_count": 19,
   "id": "f01730f3",
   "metadata": {},
   "outputs": [
    {
     "data": {
      "text/plain": [
       "Counter({'Forward': 222615,\n",
       "         'Turn Left': 39308,\n",
       "         'Turn Right': 54014,\n",
       "         'Pan Left': 76523,\n",
       "         'Pickup': 37747,\n",
       "         'Place': 34631,\n",
       "         'ToggleOn': 5524,\n",
       "         'ToggleOff': 6969,\n",
       "         'Pour': 1949,\n",
       "         'Pan Right': 67791,\n",
       "         'Look Up': 3757,\n",
       "         'Look Down': 3185,\n",
       "         'Slice': 6416,\n",
       "         'Backward': 18838,\n",
       "         'Open': 9742,\n",
       "         'Close': 6248})"
      ]
     },
     "execution_count": 19,
     "metadata": {},
     "output_type": "execute_result"
    }
   ],
   "source": [
    "action_counts"
   ]
  },
  {
   "cell_type": "code",
   "execution_count": 20,
   "id": "bf8e412a",
   "metadata": {},
   "outputs": [
    {
     "data": {
      "text/plain": [
       "Counter({'Forward': 222615,\n",
       "         'Turn Left': 39308,\n",
       "         'Turn Right': 54014,\n",
       "         'Pan Left': 76523,\n",
       "         'Pan Right': 67791,\n",
       "         'Look Up': 3757,\n",
       "         'Look Down': 3185,\n",
       "         'Backward': 18838})"
      ]
     },
     "execution_count": 20,
     "metadata": {},
     "output_type": "execute_result"
    }
   ],
   "source": [
    "navigation_actions_count"
   ]
  },
  {
   "cell_type": "code",
   "execution_count": 21,
   "id": "3e11dddf",
   "metadata": {},
   "outputs": [
    {
     "data": {
      "text/plain": [
       "Counter({'Pickup': 37747,\n",
       "         'Place': 34631,\n",
       "         'ToggleOn': 5524,\n",
       "         'ToggleOff': 6969,\n",
       "         'Pour': 1949,\n",
       "         'Slice': 6416,\n",
       "         'Open': 9742,\n",
       "         'Close': 6248})"
      ]
     },
     "execution_count": 21,
     "metadata": {},
     "output_type": "execute_result"
    }
   ],
   "source": [
    "interaction_actions_count"
   ]
  },
  {
   "cell_type": "code",
   "execution_count": 22,
   "id": "9c7f7c7b",
   "metadata": {},
   "outputs": [
    {
     "data": {
      "text/plain": [
       "109226"
      ]
     },
     "execution_count": 22,
     "metadata": {},
     "output_type": "execute_result"
    }
   ],
   "source": [
    "sum(interaction_actions_count.values())"
   ]
  },
  {
   "cell_type": "code",
   "execution_count": 23,
   "id": "9b40dda3",
   "metadata": {},
   "outputs": [
    {
     "data": {
      "text/plain": [
       "486031"
      ]
     },
     "execution_count": 23,
     "metadata": {},
     "output_type": "execute_result"
    }
   ],
   "source": [
    "sum(navigation_actions_count.values())"
   ]
  },
  {
   "cell_type": "code",
   "execution_count": 58,
   "id": "18305662",
   "metadata": {},
   "outputs": [
    {
     "data": {
      "image/png": "[encoded data removed]",
      "text/plain": [
       "<Figure size 720x360 with 2 Axes>"
      ]
     },
     "metadata": {
      "needs_background": "light"
     },
     "output_type": "display_data"
    }
   ],
   "source": [
    "fig, (ax1, ax2) = plt.subplots(1, 2, figsize=(10, 5), gridspec_kw={'width_ratios': [2, 5]})\n",
    "counts = [sum(navigation_actions_count.values()), sum(interaction_actions_count.values())]\n",
    "labels = ['Navigation', 'Interaction']\n",
    "colors = ['blue', 'red']\n",
    "ax1.bar(labels, counts, color=colors)\n",
    "counts = list(action_counts.values())\n",
    "labels = list(action_counts.keys())\n",
    "colors = ['blue' if action in navigation_actions else 'red' for action in action_counts.keys()]\n",
    "ax2.barh(labels, counts, color=colors)\n",
    "fig.suptitle(\"Action Type Distribution\")\n",
    "plt.subplots_adjust(wspace=0.2)\n",
    "fig.tight_layout()\n",
    "plt.savefig(\"action_dist.png\")"
   ]
  },
  {
   "cell_type": "markdown",
   "id": "326f6e7c",
   "metadata": {},
   "source": [
    "# Task Dataset"
   ]
  },
  {
   "cell_type": "code",
   "execution_count": 59,
   "id": "7b83ba97",
   "metadata": {},
   "outputs": [],
   "source": [
    "from TaskFromDialogueHistoryDataModule import TaskFromDialogueHistoryDataModule, TaskFromDialogueHistoryTEACHDataset"
   ]
  },
  {
   "cell_type": "code",
   "execution_count": 60,
   "id": "7bfaaa66",
   "metadata": {},
   "outputs": [
    {
     "name": "stderr",
     "output_type": "stream",
     "text": [
      "DEBUG:urllib3.connectionpool:Starting new HTTPS connection (1): huggingface.co:443\n",
      "DEBUG:urllib3.connectionpool:https://huggingface.co:443 \"HEAD /distilbert-base-uncased/resolve/main/tokenizer_config.json HTTP/1.1\" 200 0\n",
      "DEBUG:urllib3.connectionpool:Starting new HTTPS connection (1): huggingface.co:443\n",
      "DEBUG:urllib3.connectionpool:https://huggingface.co:443 \"HEAD /distilbert-base-uncased/resolve/main/config.json HTTP/1.1\" 200 0\n",
      "DEBUG:urllib3.connectionpool:Starting new HTTPS connection (1): huggingface.co:443\n",
      "DEBUG:urllib3.connectionpool:https://huggingface.co:443 \"HEAD /distilbert-base-uncased/resolve/main/tokenizer_config.json HTTP/1.1\" 200 0\n",
      "DEBUG:urllib3.connectionpool:Starting new HTTPS connection (1): huggingface.co:443\n",
      "DEBUG:urllib3.connectionpool:https://huggingface.co:443 \"HEAD /distilbert-base-uncased/resolve/main/vocab.txt HTTP/1.1\" 200 0\n",
      "DEBUG:urllib3.connectionpool:Starting new HTTPS connection (1): huggingface.co:443\n",
      "DEBUG:urllib3.connectionpool:https://huggingface.co:443 \"HEAD /distilbert-base-uncased/resolve/main/tokenizer.json HTTP/1.1\" 200 0\n",
      "DEBUG:urllib3.connectionpool:Starting new HTTPS connection (1): huggingface.co:443\n",
      "DEBUG:urllib3.connectionpool:https://huggingface.co:443 \"HEAD /distilbert-base-uncased/resolve/main/added_tokens.json HTTP/1.1\" 404 0\n",
      "DEBUG:urllib3.connectionpool:Starting new HTTPS connection (1): huggingface.co:443\n",
      "DEBUG:urllib3.connectionpool:https://huggingface.co:443 \"HEAD /distilbert-base-uncased/resolve/main/special_tokens_map.json HTTP/1.1\" 404 0\n",
      "DEBUG:urllib3.connectionpool:Starting new HTTPS connection (1): huggingface.co:443\n",
      "DEBUG:urllib3.connectionpool:https://huggingface.co:443 \"HEAD /distilbert-base-uncased/resolve/main/tokenizer_config.json HTTP/1.1\" 200 0\n",
      "DEBUG:urllib3.connectionpool:Starting new HTTPS connection (1): huggingface.co:443\n",
      "DEBUG:urllib3.connectionpool:https://huggingface.co:443 \"HEAD /distilbert-base-uncased/resolve/main/config.json HTTP/1.1\" 200 0\n"
     ]
    }
   ],
   "source": [
    "single_rt_datamodule = TaskFromDialogueHistoryDataModule(\n",
    "    data_parent_dir_path,\n",
    "    use_commander_language = True,\n",
    "    use_follower_language = True,\n",
    "    use_main_task_only=True,\n",
    "    use_edh=False\n",
    ")"
   ]
  },
  {
   "cell_type": "code",
   "execution_count": 61,
   "id": "7a5a8324",
   "metadata": {},
   "outputs": [
    {
     "name": "stdout",
     "output_type": "stream",
     "text": [
      "[MainThread-10268-INFO] TaskFromDialogueHistoryDataModule: Loading dataset for stage train\n"
     ]
    },
    {
     "name": "stderr",
     "output_type": "stream",
     "text": [
      "INFO:TaskFromDialogueHistoryDataModule:Loading dataset for stage train\n",
      "  0%|                                                                                                                                                                                                                                                                                                                                    | 0/5475 [00:00<?, ?it/s]"
     ]
    },
    {
     "name": "stdout",
     "output_type": "stream",
     "text": [
      "[MainThread-10268-INFO] TaskFromDialogueHistoryDataModule: Added new task (id: 301) 'Breakfast' as class #0\n"
     ]
    },
    {
     "name": "stderr",
     "output_type": "stream",
     "text": [
      "INFO:TaskFromDialogueHistoryDataModule:Added new task (id: 301) 'Breakfast' as class #0\n"
     ]
    },
    {
     "name": "stdout",
     "output_type": "stream",
     "text": [
      "[MainThread-10268-INFO] TaskFromDialogueHistoryDataModule: Added new task (id: 303) 'Salad' as class #1\n"
     ]
    },
    {
     "name": "stderr",
     "output_type": "stream",
     "text": [
      "INFO:TaskFromDialogueHistoryDataModule:Added new task (id: 303) 'Salad' as class #1\n",
      "  0%|▊                                                                                                                                                                                                                                                                                                                         | 14/5475 [00:00<00:43, 125.97it/s]"
     ]
    },
    {
     "name": "stdout",
     "output_type": "stream",
     "text": [
      "[MainThread-10268-INFO] TaskFromDialogueHistoryDataModule: Added new task (id: 107) 'N Cooked Slices Of X In Y' as class #2\n"
     ]
    },
    {
     "name": "stderr",
     "output_type": "stream",
     "text": [
      "INFO:TaskFromDialogueHistoryDataModule:Added new task (id: 107) 'N Cooked Slices Of X In Y' as class #2\n"
     ]
    },
    {
     "name": "stdout",
     "output_type": "stream",
     "text": [
      "[MainThread-10268-INFO] TaskFromDialogueHistoryDataModule: Added new task (id: 110) 'Put All X On Y' as class #3\n"
     ]
    },
    {
     "name": "stderr",
     "output_type": "stream",
     "text": [
      "INFO:TaskFromDialogueHistoryDataModule:Added new task (id: 110) 'Put All X On Y' as class #3\n"
     ]
    },
    {
     "name": "stdout",
     "output_type": "stream",
     "text": [
      "[MainThread-10268-INFO] TaskFromDialogueHistoryDataModule: Added new task (id: 102) 'Coffee' as class #4\n"
     ]
    },
    {
     "name": "stderr",
     "output_type": "stream",
     "text": [
      "INFO:TaskFromDialogueHistoryDataModule:Added new task (id: 102) 'Coffee' as class #4\n",
      "  1%|██▌                                                                                                                                                                                                                                                                                                                       | 44/5475 [00:00<00:24, 219.42it/s]"
     ]
    },
    {
     "name": "stdout",
     "output_type": "stream",
     "text": [
      "[MainThread-10268-INFO] TaskFromDialogueHistoryDataModule: Added new task (id: 111) 'Put All X In One Y' as class #5\n"
     ]
    },
    {
     "name": "stderr",
     "output_type": "stream",
     "text": [
      "INFO:TaskFromDialogueHistoryDataModule:Added new task (id: 111) 'Put All X In One Y' as class #5\n"
     ]
    },
    {
     "name": "stdout",
     "output_type": "stream",
     "text": [
      "[MainThread-10268-INFO] TaskFromDialogueHistoryDataModule: Added new task (id: 112) 'Boil X' as class #6\n"
     ]
    },
    {
     "name": "stderr",
     "output_type": "stream",
     "text": [
      "INFO:TaskFromDialogueHistoryDataModule:Added new task (id: 112) 'Boil X' as class #6\n"
     ]
    },
    {
     "name": "stdout",
     "output_type": "stream",
     "text": [
      "[MainThread-10268-INFO] TaskFromDialogueHistoryDataModule: Added new task (id: 115) 'Clean All X' as class #7\n"
     ]
    },
    {
     "name": "stderr",
     "output_type": "stream",
     "text": [
      "INFO:TaskFromDialogueHistoryDataModule:Added new task (id: 115) 'Clean All X' as class #7\n",
      "  1%|███▊                                                                                                                                                                                                                                                                                                                      | 67/5475 [00:00<00:28, 190.26it/s]"
     ]
    },
    {
     "name": "stdout",
     "output_type": "stream",
     "text": [
      "[MainThread-10268-INFO] TaskFromDialogueHistoryDataModule: Added new task (id: 106) 'Plate Of Toast' as class #8\n"
     ]
    },
    {
     "name": "stderr",
     "output_type": "stream",
     "text": [
      "INFO:TaskFromDialogueHistoryDataModule:Added new task (id: 106) 'Plate Of Toast' as class #8\n"
     ]
    },
    {
     "name": "stdout",
     "output_type": "stream",
     "text": [
      "[MainThread-10268-INFO] TaskFromDialogueHistoryDataModule: Added new task (id: 302) 'Sandwich' as class #9\n"
     ]
    },
    {
     "name": "stderr",
     "output_type": "stream",
     "text": [
      "INFO:TaskFromDialogueHistoryDataModule:Added new task (id: 302) 'Sandwich' as class #9\n",
      "  4%|████████████▉                                                                                                                                                                                                                                                                                                            | 227/5475 [00:01<00:36, 143.13it/s]"
     ]
    },
    {
     "name": "stdout",
     "output_type": "stream",
     "text": [
      "[MainThread-10268-INFO] TaskFromDialogueHistoryDataModule: Added new task (id: 108) 'N Slices Of X In Y' as class #10\n"
     ]
    },
    {
     "name": "stderr",
     "output_type": "stream",
     "text": [
      "INFO:TaskFromDialogueHistoryDataModule:Added new task (id: 108) 'N Slices Of X In Y' as class #10\n",
      "  6%|██████████████████▏                                                                                                                                                                                                                                                                                                      | 318/5475 [00:02<00:32, 157.19it/s]"
     ]
    },
    {
     "name": "stdout",
     "output_type": "stream",
     "text": [
      "[MainThread-10268-INFO] TaskFromDialogueHistoryDataModule: Added new task (id: 114) 'Water Plant' as class #11\n"
     ]
    },
    {
     "name": "stderr",
     "output_type": "stream",
     "text": [
      "INFO:TaskFromDialogueHistoryDataModule:Added new task (id: 114) 'Water Plant' as class #11\n",
      "100%|████████████████████████████████████████████████████████████████████████████████████████████████████████████████████████████████████████████████████████████████████████████████████████████████████████████████████████████████████████████████████████████████████████████████████████████████████████████████████████| 5475/5475 [00:37<00:00, 147.73it/s]\n"
     ]
    }
   ],
   "source": [
    "single_rt_datamodule.setup(\"train\")"
   ]
  },
  {
   "cell_type": "code",
   "execution_count": 62,
   "id": "dd7013b0",
   "metadata": {},
   "outputs": [
    {
     "name": "stderr",
     "output_type": "stream",
     "text": [
      "DEBUG:urllib3.connectionpool:Starting new HTTPS connection (1): huggingface.co:443\n",
      "DEBUG:urllib3.connectionpool:https://huggingface.co:443 \"HEAD /distilbert-base-uncased/resolve/main/tokenizer_config.json HTTP/1.1\" 200 0\n",
      "DEBUG:urllib3.connectionpool:Starting new HTTPS connection (1): huggingface.co:443\n",
      "DEBUG:urllib3.connectionpool:https://huggingface.co:443 \"HEAD /distilbert-base-uncased/resolve/main/config.json HTTP/1.1\" 200 0\n",
      "DEBUG:urllib3.connectionpool:Starting new HTTPS connection (1): huggingface.co:443\n",
      "DEBUG:urllib3.connectionpool:https://huggingface.co:443 \"HEAD /distilbert-base-uncased/resolve/main/tokenizer_config.json HTTP/1.1\" 200 0\n",
      "DEBUG:urllib3.connectionpool:Starting new HTTPS connection (1): huggingface.co:443\n",
      "DEBUG:urllib3.connectionpool:https://huggingface.co:443 \"HEAD /distilbert-base-uncased/resolve/main/vocab.txt HTTP/1.1\" 200 0\n",
      "DEBUG:urllib3.connectionpool:Starting new HTTPS connection (1): huggingface.co:443\n",
      "DEBUG:urllib3.connectionpool:https://huggingface.co:443 \"HEAD /distilbert-base-uncased/resolve/main/tokenizer.json HTTP/1.1\" 200 0\n",
      "DEBUG:urllib3.connectionpool:Starting new HTTPS connection (1): huggingface.co:443\n",
      "DEBUG:urllib3.connectionpool:https://huggingface.co:443 \"HEAD /distilbert-base-uncased/resolve/main/added_tokens.json HTTP/1.1\" 404 0\n",
      "DEBUG:urllib3.connectionpool:Starting new HTTPS connection (1): huggingface.co:443\n",
      "DEBUG:urllib3.connectionpool:https://huggingface.co:443 \"HEAD /distilbert-base-uncased/resolve/main/special_tokens_map.json HTTP/1.1\" 404 0\n",
      "DEBUG:urllib3.connectionpool:Starting new HTTPS connection (1): huggingface.co:443\n",
      "DEBUG:urllib3.connectionpool:https://huggingface.co:443 \"HEAD /distilbert-base-uncased/resolve/main/tokenizer_config.json HTTP/1.1\" 200 0\n",
      "DEBUG:urllib3.connectionpool:Starting new HTTPS connection (1): huggingface.co:443\n",
      "DEBUG:urllib3.connectionpool:https://huggingface.co:443 \"HEAD /distilbert-base-uncased/resolve/main/config.json HTTP/1.1\" 200 0\n"
     ]
    }
   ],
   "source": [
    "multi_rt_datamodule = TaskFromDialogueHistoryDataModule(\n",
    "    data_parent_dir_path,\n",
    "    use_commander_language = True,\n",
    "    use_follower_language = True,\n",
    "    use_main_task_only=False,\n",
    "    use_edh=False\n",
    ")"
   ]
  },
  {
   "cell_type": "code",
   "execution_count": 63,
   "id": "1f9abdc0",
   "metadata": {},
   "outputs": [
    {
     "name": "stdout",
     "output_type": "stream",
     "text": [
      "[MainThread-10268-INFO] TaskFromDialogueHistoryDataModule: Loading dataset for stage train\n"
     ]
    },
    {
     "name": "stderr",
     "output_type": "stream",
     "text": [
      "INFO:TaskFromDialogueHistoryDataModule:Loading dataset for stage train\n",
      "  0%|                                                                                                                                                                                                                                                                                                                                    | 0/5475 [00:00<?, ?it/s]"
     ]
    },
    {
     "name": "stdout",
     "output_type": "stream",
     "text": [
      "[MainThread-10268-INFO] TaskFromDialogueHistoryDataModule: Added new task (id: 301) 'Breakfast' as class #0\n"
     ]
    },
    {
     "name": "stderr",
     "output_type": "stream",
     "text": [
      "INFO:TaskFromDialogueHistoryDataModule:Added new task (id: 301) 'Breakfast' as class #0\n"
     ]
    },
    {
     "name": "stdout",
     "output_type": "stream",
     "text": [
      "[MainThread-10268-INFO] TaskFromDialogueHistoryDataModule: Added new task (id: 102) 'Coffee' as class #1\n"
     ]
    },
    {
     "name": "stderr",
     "output_type": "stream",
     "text": [
      "INFO:TaskFromDialogueHistoryDataModule:Added new task (id: 102) 'Coffee' as class #1\n"
     ]
    },
    {
     "name": "stdout",
     "output_type": "stream",
     "text": [
      "[MainThread-10268-INFO] TaskFromDialogueHistoryDataModule: Added new task (id: 106) 'Plate Of Toast' as class #2\n"
     ]
    },
    {
     "name": "stderr",
     "output_type": "stream",
     "text": [
      "INFO:TaskFromDialogueHistoryDataModule:Added new task (id: 106) 'Plate Of Toast' as class #2\n"
     ]
    },
    {
     "name": "stdout",
     "output_type": "stream",
     "text": [
      "[MainThread-10268-INFO] TaskFromDialogueHistoryDataModule: Added new task (id: 101) 'Toast' as class #3\n"
     ]
    },
    {
     "name": "stderr",
     "output_type": "stream",
     "text": [
      "INFO:TaskFromDialogueHistoryDataModule:Added new task (id: 101) 'Toast' as class #3\n"
     ]
    },
    {
     "name": "stdout",
     "output_type": "stream",
     "text": [
      "[MainThread-10268-INFO] TaskFromDialogueHistoryDataModule: Added new task (id: 103) 'Clean X' as class #4\n"
     ]
    },
    {
     "name": "stderr",
     "output_type": "stream",
     "text": [
      "INFO:TaskFromDialogueHistoryDataModule:Added new task (id: 103) 'Clean X' as class #4\n"
     ]
    },
    {
     "name": "stdout",
     "output_type": "stream",
     "text": [
      "[MainThread-10268-INFO] TaskFromDialogueHistoryDataModule: Added new task (id: 107) 'N Cooked Slices Of X In Y' as class #5\n"
     ]
    },
    {
     "name": "stderr",
     "output_type": "stream",
     "text": [
      "INFO:TaskFromDialogueHistoryDataModule:Added new task (id: 107) 'N Cooked Slices Of X In Y' as class #5\n"
     ]
    },
    {
     "name": "stdout",
     "output_type": "stream",
     "text": [
      "[MainThread-10268-INFO] TaskFromDialogueHistoryDataModule: Added new task (id: 105) 'Cooked Slice Of X' as class #6\n"
     ]
    },
    {
     "name": "stderr",
     "output_type": "stream",
     "text": [
      "INFO:TaskFromDialogueHistoryDataModule:Added new task (id: 105) 'Cooked Slice Of X' as class #6\n"
     ]
    },
    {
     "name": "stdout",
     "output_type": "stream",
     "text": [
      "[MainThread-10268-INFO] TaskFromDialogueHistoryDataModule: Added new task (id: 108) 'N Slices Of X In Y' as class #7\n"
     ]
    },
    {
     "name": "stderr",
     "output_type": "stream",
     "text": [
      "INFO:TaskFromDialogueHistoryDataModule:Added new task (id: 108) 'N Slices Of X In Y' as class #7\n"
     ]
    },
    {
     "name": "stdout",
     "output_type": "stream",
     "text": [
      "[MainThread-10268-INFO] TaskFromDialogueHistoryDataModule: Added new task (id: 104) 'Sliced X' as class #8\n"
     ]
    },
    {
     "name": "stderr",
     "output_type": "stream",
     "text": [
      "INFO:TaskFromDialogueHistoryDataModule:Added new task (id: 104) 'Sliced X' as class #8\n"
     ]
    },
    {
     "name": "stdout",
     "output_type": "stream",
     "text": [
      "[MainThread-10268-INFO] TaskFromDialogueHistoryDataModule: Added new task (id: 302) 'Sandwich' as class #9\n"
     ]
    },
    {
     "name": "stderr",
     "output_type": "stream",
     "text": [
      "INFO:TaskFromDialogueHistoryDataModule:Added new task (id: 302) 'Sandwich' as class #9\n"
     ]
    },
    {
     "name": "stdout",
     "output_type": "stream",
     "text": [
      "[MainThread-10268-INFO] TaskFromDialogueHistoryDataModule: Added new task (id: 303) 'Salad' as class #10\n"
     ]
    },
    {
     "name": "stderr",
     "output_type": "stream",
     "text": [
      "INFO:TaskFromDialogueHistoryDataModule:Added new task (id: 303) 'Salad' as class #10\n",
      "  0%|█▍                                                                                                                                                                                                                                                                                                                        | 26/5475 [00:00<00:20, 259.99it/s]"
     ]
    },
    {
     "name": "stdout",
     "output_type": "stream",
     "text": [
      "[MainThread-10268-INFO] TaskFromDialogueHistoryDataModule: Added new task (id: 110) 'Put All X On Y' as class #11\n"
     ]
    },
    {
     "name": "stderr",
     "output_type": "stream",
     "text": [
      "INFO:TaskFromDialogueHistoryDataModule:Added new task (id: 110) 'Put All X On Y' as class #11\n"
     ]
    },
    {
     "name": "stdout",
     "output_type": "stream",
     "text": [
      "[MainThread-10268-INFO] TaskFromDialogueHistoryDataModule: Added new task (id: 111) 'Put All X In One Y' as class #12\n"
     ]
    },
    {
     "name": "stderr",
     "output_type": "stream",
     "text": [
      "INFO:TaskFromDialogueHistoryDataModule:Added new task (id: 111) 'Put All X In One Y' as class #12\n"
     ]
    },
    {
     "name": "stdout",
     "output_type": "stream",
     "text": [
      "[MainThread-10268-INFO] TaskFromDialogueHistoryDataModule: Added new task (id: 112) 'Boil X' as class #13\n"
     ]
    },
    {
     "name": "stderr",
     "output_type": "stream",
     "text": [
      "INFO:TaskFromDialogueHistoryDataModule:Added new task (id: 112) 'Boil X' as class #13\n",
      "  1%|███▎                                                                                                                                                                                                                                                                                                                      | 58/5475 [00:00<00:18, 295.28it/s]"
     ]
    },
    {
     "name": "stdout",
     "output_type": "stream",
     "text": [
      "[MainThread-10268-INFO] TaskFromDialogueHistoryDataModule: Added new task (id: 115) 'Clean All X' as class #14\n"
     ]
    },
    {
     "name": "stderr",
     "output_type": "stream",
     "text": [
      "INFO:TaskFromDialogueHistoryDataModule:Added new task (id: 115) 'Clean All X' as class #14\n",
      "  6%|██████████████████▉                                                                                                                                                                                                                                                                                                      | 331/5475 [00:01<00:24, 214.10it/s]"
     ]
    },
    {
     "name": "stdout",
     "output_type": "stream",
     "text": [
      "[MainThread-10268-INFO] TaskFromDialogueHistoryDataModule: Added new task (id: 114) 'Water Plant' as class #15\n"
     ]
    },
    {
     "name": "stderr",
     "output_type": "stream",
     "text": [
      "INFO:TaskFromDialogueHistoryDataModule:Added new task (id: 114) 'Water Plant' as class #15\n",
      "100%|████████████████████████████████████████████████████████████████████████████████████████████████████████████████████████████████████████████████████████████████████████████████████████████████████████████████████████████████████████████████████████████████████████████████████████████████████████████████████████| 5475/5475 [00:20<00:00, 270.53it/s]\n"
     ]
    }
   ],
   "source": [
    "multi_rt_datamodule.setup(\"train\")"
   ]
  },
  {
   "cell_type": "code",
   "execution_count": null,
   "id": "e24bcc2b",
   "metadata": {},
   "outputs": [],
   "source": []
  }
 ],
 "metadata": {
  "kernelspec": {
   "display_name": "Python 3 (ipykernel)",
   "language": "python",
   "name": "python3"
  },
  "language_info": {
   "codemirror_mode": {
    "name": "ipython",
    "version": 3
   },
   "file_extension": ".py",
   "mimetype": "text/x-python",
   "name": "python",
   "nbconvert_exporter": "python",
   "pygments_lexer": "ipython3",
   "version": "3.8.13"
  }
 },
 "nbformat": 4,
 "nbformat_minor": 5
}
