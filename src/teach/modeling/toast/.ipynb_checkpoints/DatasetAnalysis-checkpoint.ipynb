{
 "cells": [
  {
   "cell_type": "code",
   "execution_count": null,
   "id": "43e4b314",
   "metadata": {},
   "outputs": [],
   "source": [
    "from NaiveDataModule import NaiveDataModule, NaiveTEACHDataset\n",
    "import os\n",
    "from itertools import chain\n",
    "from collections import Counter\n",
    "from tqdm import tqdm\n",
    "import matplotlib.pyplot as plt"
   ]
  },
  {
   "cell_type": "code",
   "execution_count": null,
   "id": "f37f1b33",
   "metadata": {},
   "outputs": [],
   "source": [
    "parent_dir_path = \"E:\"\n",
    "data_parent_dir_path = os.path.join(parent_dir_path, 'teach-dataset')\n",
    "w2v_path = os.path.join(parent_dir_path, 'GoogleNews-vectors-negative300.bin.gz')"
   ]
  },
  {
   "cell_type": "markdown",
   "id": "4bdb33f0",
   "metadata": {},
   "source": [
    "## Plot actions Distribution on EDH"
   ]
  },
  {
   "cell_type": "code",
   "execution_count": null,
   "id": "1e177d6e",
   "metadata": {},
   "outputs": [],
   "source": [
    "naive_datamodule = NaiveDataModule(\n",
    "    data_parent_dir_path, \n",
    "    w2v_path, \n",
    "    16, \n",
    "    x_text_pad_length=1024, \n",
    "    use_small_dataset=False,\n",
    "    num_workers=4,\n",
    "    include_x_cur_image=False,\n",
    "    include_x_prev_actions=False\n",
    ")"
   ]
  },
  {
   "cell_type": "code",
   "execution_count": null,
   "id": "51499f74",
   "metadata": {},
   "outputs": [],
   "source": [
    "naive_datamodule.setup(\"train\")"
   ]
  },
  {
   "cell_type": "code",
   "execution_count": null,
   "id": "a0cfc1c2",
   "metadata": {},
   "outputs": [],
   "source": [
    "naive_datamodule.setup(\"val\")"
   ]
  },
  {
   "cell_type": "code",
   "execution_count": null,
   "id": "1f5c8bf9",
   "metadata": {},
   "outputs": [],
   "source": [
    "naive_datamodule.setup(\"val_unseen\")"
   ]
  },
  {
   "cell_type": "code",
   "execution_count": null,
   "id": "244a42a5",
   "metadata": {},
   "outputs": [],
   "source": [
    "all_agent_actions = [\n",
    "    \"Stop\",\"Forward\",\"Backward\",\"Turn Left\",\"Turn Right\",\"Look Up\",\"Look Down\",\"Pan Left\",\"Pan Right\",\"Pickup\",\"Place\",\n",
    "    \"Open\",\"Close\",\"ToggleOn\",\"ToggleOff\",\"Slice\", \"Pour\"\n",
    "]\n",
    "navigation_actions = set([\"Forward\",\"Backward\",\"Turn Left\",\"Turn Right\",\"Look Up\",\"Look Down\",\"Pan Left\",\"Pan Right\"])\n",
    "interaction_actions = set([\"Pickup\",\"Place\",\"Open\",\"Close\",\"ToggleOn\",\"ToggleOff\",\"Slice\", \"Pour\"])"
   ]
  },
  {
   "cell_type": "code",
   "execution_count": null,
   "id": "f6372bd7",
   "metadata": {},
   "outputs": [],
   "source": [
    "def action_one_hot_to_name(onehot_tensor):\n",
    "    return all_agent_actions[onehot_tensor.argmax()]"
   ]
  },
  {
   "cell_type": "code",
   "execution_count": null,
   "id": "c3c33fbc",
   "metadata": {},
   "outputs": [],
   "source": [
    "action_counts = Counter()\n",
    "navigation_actions_count = Counter()\n",
    "interaction_actions_count = Counter()"
   ]
  },
  {
   "cell_type": "code",
   "execution_count": null,
   "id": "17d2eda7",
   "metadata": {},
   "outputs": [],
   "source": [
    "naive_dls = [\n",
    "    iter(naive_datamodule.train_dataloader()), \n",
    "    iter(naive_datamodule.val_dataloader()),\n",
    "    iter(naive_datamodule.val_unseen_dataloader())\n",
    "]"
   ]
  },
  {
   "cell_type": "code",
   "execution_count": null,
   "id": "05d3c909",
   "metadata": {},
   "outputs": [],
   "source": [
    "for _, batched_y in tqdm(chain(*naive_dls)):\n",
    "    for i in range(batched_y.size(0)):\n",
    "        action_name = action_one_hot_to_name(batched_y[i])\n",
    "        action_counts[action_name] += 1\n",
    "        if action_name in navigation_actions:\n",
    "            navigation_actions_count[action_name] += 1\n",
    "        if action_name in interaction_actions:\n",
    "            interaction_actions_count[action_name] += 1"
   ]
  },
  {
   "cell_type": "code",
   "execution_count": null,
   "id": "f01730f3",
   "metadata": {},
   "outputs": [],
   "source": [
    "action_counts"
   ]
  },
  {
   "cell_type": "code",
   "execution_count": null,
   "id": "bf8e412a",
   "metadata": {},
   "outputs": [],
   "source": [
    "navigation_actions_count"
   ]
  },
  {
   "cell_type": "code",
   "execution_count": null,
   "id": "3e11dddf",
   "metadata": {},
   "outputs": [],
   "source": [
    "interaction_actions_count"
   ]
  },
  {
   "cell_type": "code",
   "execution_count": null,
   "id": "9c7f7c7b",
   "metadata": {},
   "outputs": [],
   "source": [
    "sum(interaction_actions_count.values())"
   ]
  },
  {
   "cell_type": "code",
   "execution_count": null,
   "id": "9b40dda3",
   "metadata": {},
   "outputs": [],
   "source": [
    "sum(navigation_actions_count.values())"
   ]
  },
  {
   "cell_type": "code",
   "execution_count": null,
   "id": "18305662",
   "metadata": {},
   "outputs": [],
   "source": [
    "fig = plt.figure()\n",
    "ax = fig.add_axes([0,0,1,1])\n",
    "counts = [sum(navigation_actions_count.values()), sum(interaction_actions_count.values())] + list(action_counts.values())\n",
    "labels = ['Navigation', 'Interaction'] + list(action_counts.keys())\n",
    "colors = ['blue', 'red'] + ['blue' if action in navigation_actions else 'red' for action in action_counts.keys()]\n",
    "ax.bar(labels, counts, color=colors)\n",
    "plt.show()"
   ]
  },
  {
   "cell_type": "code",
   "execution_count": null,
   "id": "0e2170de",
   "metadata": {},
   "outputs": [],
   "source": []
  }
 ],
 "metadata": {
  "kernelspec": {
   "display_name": "Python 3 (ipykernel)",
   "language": "python",
   "name": "python3"
  },
  "language_info": {
   "codemirror_mode": {
    "name": "ipython",
    "version": 3
   },
   "file_extension": ".py",
   "mimetype": "text/x-python",
   "name": "python",
   "nbconvert_exporter": "python",
   "pygments_lexer": "ipython3",
   "version": "3.8.13"
  }
 },
 "nbformat": 4,
 "nbformat_minor": 5
}
